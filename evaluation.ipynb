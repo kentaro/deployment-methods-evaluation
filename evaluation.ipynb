{
 "cells": [
  {
   "cell_type": "markdown",
   "metadata": {},
   "source": [
    "# IoTアプリケーションの開発効率の向上を目的とした開発者によるコードの変更を部分適用する方式の提案と実装\n",
    "\n",
    "このノートブックは、研究報告論文「IoTアプリケーションの開発効率の向上を目的とした開発者によるコードの変更を部分適用する方式の提案と実装」における提案方式の実装を、既存方式と比較検討した際のプロトコルを記録しておくためのものである。\n",
    "\n",
    "計測方法について、北九州市立大学の山崎進氏による記事「[mix_tasks_upload_hotswap の Hexライブラリ版を試す](https://qiita.com/zacky1972/items/f0b47eded7c902008871)」がおおいに参考になりました。感謝いたします。\n",
    "\n",
    "## 更新対象とするIoTアプリケーション\n",
    "\n",
    "各方式の比較検討に用いるアプリケーションは、本リポジトリの[target_app](./target_app)ディレクトリに収められている。そのうちの、以下に抜粋したコードに含まれる`TargetApp.hello/0`メソッドが返す文字列を変更することで、コードの変更とする。\n",
    "\n",
    "```\n",
    "defmodule TargetApp do\n",
    "  def hello do\n",
    "    :world\n",
    "  end\n",
    "end\n",
    "```\n",
    "\n",
    "## 比較検討する方式\n",
    "\n",
    "上記のIoTアプリケーションコードの変更をIoTデバイスに適用する方式として、以下の3つについて比較検討する。\n",
    "\n",
    "1. ファームウェアイメージ全体の適用\n",
    "2. ファームウェアイメージのパッチによる部分適用\n",
    "3. アプリケーションコードの部分適用\n",
    "\n",
    "それぞれの詳細については、研究報告論文を参照されたい。\n",
    "\n",
    "## 比較検討の方法\n",
    "\n",
    "各方式を比較するための指標として、開発者によるコードの変更をIoTデバイスに適用し、アプリケーションが通信可能となるまでの時間を用いる。\n",
    "\n",
    "方式を実装したIoTデバイス開発プラットフォームとして、Nervesを用いる。筆者による提案方式3.の実装を加えると、上記の方式をすべて実装しているのがNervesだからである。ハードウェアとしては、Raspberry Piを用いる。\n",
    "\n",
    "方式1.および2.については、スクリプト[measure_firmware_update.sh](./measure_firmware_update.sh)を用いて、以下の時間を計測する。\n",
    "\n",
    "1. ファームウェアイメージの生成\n",
    "2. ファームウェアイメージのデバイスへのアップロード\n",
    "3. デバイスの再起動\n",
    "\n",
    "方式3.については、提案方式を実装した`mix upload.hotswap`コマンドの実行時間を、`time(1)`によって計測する。\n",
    "\n",
    "## 実験環境\n",
    "\n",
    "### 開発環境\n",
    "\n",
    "* MacBook Pro (13-inch, 2018, Four Thunderbolt 3 Ports)\n",
    "* プロサッサ: 2.7 GHz クアッドコアIntel Core i7\n",
    "* メモリ: 16 GB 2133 MHz LPDDR3\n",
    "\n",
    "### IoTデバイス\n",
    "\n",
    "* Raspberry Pi 3 Model B\n",
    "* 開発環境との通信: 有線LAN\n",
    "\n",
    "### Elixir/Nervesのバージョン\n",
    "\n",
    "* Nerves: 1.7.1\n",
    "* Nerves Bootstrap: 1.10.1\n",
    "* Elixir: 1.11.2\n",
    "\n",
    "このNotebookでは、Nervesの開発環境の整備については解説しない。「[ElixirでIoT#4.1：Nerves開発環境の準備（2020年11月版）](https://qiita.com/takasehideki/items/88dda57758051d45fcf9)」等の記事を参照されたい。"
   ]
  },
  {
   "cell_type": "markdown",
   "metadata": {},
   "source": [
    "## 実験\n",
    "\n",
    "### 1. ファームウェアイメージ全体の適用\n",
    "\n",
    "スクリプト[measure_firmware_update.sh](./measure_firmware_update.sh)を用いて、以下に要する時間を計測する。\n",
    "\n",
    "1. `mix firmware`\n",
    "2. `mix upload`\n",
    "3. Nervesが再起動して`ping(1)`が通るようになるまでの時間\n",
    "\n",
    "3回計測を行い、それらの平均を用いる。"
   ]
  },
  {
   "cell_type": "markdown",
   "metadata": {},
   "source": [
    "#### 1回目"
   ]
  },
  {
   "cell_type": "code",
   "execution_count": 4,
   "metadata": {},
   "outputs": [
    {
     "name": "stdout",
     "output_type": "stream",
     "text": [
      "nerves.local is at 172.31.68.221\n",
      "\n",
      "Time to build firmware (mix firmware)\n",
      "======================================\n",
      "\n",
      "real\t0m21.927s\n",
      "user\t0m6.584s\n",
      "sys\t0m2.121s\n",
      "\n",
      "Time to upload firmware\n",
      "======================================\n",
      "\n",
      "real\t0m14.572s\n",
      "user\t0m5.182s\n",
      "sys\t0m1.261s\n",
      "\n",
      "Time to reboot\n",
      "======================================\n",
      "\n",
      "time: 22.692 sec.\n",
      "\n"
     ]
    }
   ],
   "source": [
    "!cd target_app && ../measure_firmware_update.sh firmware"
   ]
  },
  {
   "cell_type": "markdown",
   "metadata": {},
   "source": [
    "#### 2回目"
   ]
  },
  {
   "cell_type": "code",
   "execution_count": 1,
   "metadata": {},
   "outputs": [
    {
     "name": "stdout",
     "output_type": "stream",
     "text": [
      "nerves.local is at 172.31.68.221\n",
      "\n",
      "Time to build firmware (mix firmware)\n",
      "======================================\n",
      "\n",
      "real\t0m20.573s\n",
      "user\t0m6.462s\n",
      "sys\t0m2.150s\n",
      "\n",
      "Time to upload firmware\n",
      "======================================\n",
      "\n",
      "real\t0m14.527s\n",
      "user\t0m5.599s\n",
      "sys\t0m1.337s\n",
      "\n",
      "Time to reboot\n",
      "======================================\n",
      "\n",
      "time: 22.522 sec.\n",
      "\n"
     ]
    }
   ],
   "source": [
    "!cd target_app && ../measure_firmware_update.sh firmware"
   ]
  },
  {
   "cell_type": "markdown",
   "metadata": {},
   "source": [
    "#### 3回目"
   ]
  },
  {
   "cell_type": "code",
   "execution_count": 5,
   "metadata": {},
   "outputs": [
    {
     "name": "stdout",
     "output_type": "stream",
     "text": [
      "nerves.local is at 172.31.68.221\n",
      "\n",
      "Time to build firmware (mix firmware)\n",
      "======================================\n",
      "\n",
      "real\t0m21.081s\n",
      "user\t0m6.499s\n",
      "sys\t0m2.020s\n",
      "\n",
      "Time to upload firmware\n",
      "======================================\n",
      "\n",
      "real\t0m14.328s\n",
      "user\t0m5.159s\n",
      "sys\t0m1.214s\n",
      "\n",
      "Time to reboot\n",
      "======================================\n",
      "\n",
      "time: 22.880 sec.\n",
      "\n"
     ]
    }
   ],
   "source": [
    "!cd target_app && ../measure_firmware_update.sh firmware"
   ]
  },
  {
   "cell_type": "markdown",
   "metadata": {},
   "source": [
    "#### まとめ"
   ]
  },
  {
   "cell_type": "code",
   "execution_count": 11,
   "metadata": {},
   "outputs": [
    {
     "name": "stdout",
     "output_type": "stream",
     "text": [
      "1. ファームウェアイメージの生成: 21.19秒\n",
      "2. ファームウェアイメージのデバイスへのアップロード: 14.48秒\n",
      "3. デバイスの再起動: 22.70秒\n"
     ]
    }
   ],
   "source": [
    "print(\"1. ファームウェアイメージの生成: {:.2f}秒\".format((21.927+20.573+21.081)/3))\n",
    "print(\"2. ファームウェアイメージのデバイスへのアップロード: {:.2f}秒\".format((14.572+14.527+14.328)/3))\n",
    "print(\"3. デバイスの再起動: {:.2f}秒\".format((22.692+22.522+22.880)/3))"
   ]
  },
  {
   "cell_type": "markdown",
   "metadata": {},
   "source": [
    "### 2. ファームウェアイメージのパッチによる部分適用\n",
    "\n",
    "スクリプト[measure_firmware_update.sh](./measure_firmware_update.sh)を用いて、以下に要する時間を計測する。\n",
    "\n",
    "1. `mix firmware.patch`\n",
    "2. `mix upload --firmware _build/rpi3_dev/nerves/images/patch.fw`\n",
    "3. Nervesが再起動して`ping(1)`が通るようになるまでの時間\n",
    "\n",
    "3回計測を行い、それらの平均を用いる。"
   ]
  },
  {
   "cell_type": "markdown",
   "metadata": {},
   "source": [
    "#### 1回目"
   ]
  },
  {
   "cell_type": "code",
   "execution_count": 8,
   "metadata": {},
   "outputs": [
    {
     "name": "stdout",
     "output_type": "stream",
     "text": [
      "nerves.local is at 172.31.68.221\n",
      "\n",
      "Time to build firmware (mix firmware.patch)\n",
      "======================================\n",
      "\n",
      "real\t0m27.127s\n",
      "user\t0m6.697s\n",
      "sys\t0m2.227s\n",
      "\n",
      "Time to upload firmware\n",
      "======================================\n",
      "\n",
      "real\t0m17.873s\n",
      "user\t0m3.897s\n",
      "sys\t0m0.952s\n",
      "\n",
      "Time to reboot\n",
      "======================================\n",
      "\n",
      "time: 22.534 sec.\n",
      "\n"
     ]
    }
   ],
   "source": [
    "!cd target_app && ../measure_firmware_update.sh firmware.patch"
   ]
  },
  {
   "cell_type": "markdown",
   "metadata": {},
   "source": [
    "#### 2回目"
   ]
  },
  {
   "cell_type": "code",
   "execution_count": 2,
   "metadata": {},
   "outputs": [
    {
     "name": "stdout",
     "output_type": "stream",
     "text": [
      "nerves.local is at 172.31.68.221\n",
      "\n",
      "Time to build firmware (mix firmware.patch)\n",
      "======================================\n",
      "\n",
      "real\t0m23.531s\n",
      "user\t0m6.589s\n",
      "sys\t0m2.185s\n",
      "\n",
      "Time to upload firmware\n",
      "======================================\n",
      "\n",
      "real\t0m18.240s\n",
      "user\t0m3.959s\n",
      "sys\t0m1.007s\n",
      "\n",
      "Time to reboot\n",
      "======================================\n",
      "\n",
      "time: 22.743 sec.\n",
      "\n"
     ]
    }
   ],
   "source": [
    "!cd target_app && ../measure_firmware_update.sh firmware.patch"
   ]
  },
  {
   "cell_type": "markdown",
   "metadata": {},
   "source": [
    "#### 3回目"
   ]
  },
  {
   "cell_type": "code",
   "execution_count": 13,
   "metadata": {},
   "outputs": [
    {
     "name": "stdout",
     "output_type": "stream",
     "text": [
      "nerves.local is at 172.31.68.221\n",
      "\n",
      "Time to build firmware (mix firmware.patch)\n",
      "======================================\n",
      "\n",
      "real\t0m22.494s\n",
      "user\t0m6.610s\n",
      "sys\t0m2.180s\n",
      "\n",
      "Time to upload firmware\n",
      "======================================\n",
      "\n",
      "real\t0m17.922s\n",
      "user\t0m4.169s\n",
      "sys\t0m1.062s\n",
      "\n",
      "Time to reboot\n",
      "======================================\n",
      "\n",
      "time: 22.638 sec.\n",
      "\n"
     ]
    }
   ],
   "source": [
    "!cd target_app && ../measure_firmware_update.sh firmware.patch"
   ]
  },
  {
   "cell_type": "markdown",
   "metadata": {},
   "source": [
    "#### まとめ"
   ]
  },
  {
   "cell_type": "code",
   "execution_count": 17,
   "metadata": {},
   "outputs": [
    {
     "name": "stdout",
     "output_type": "stream",
     "text": [
      "1. ファームウェアイメージの生成: 24.38秒\n",
      "2. ファームウェアイメージのデバイスへのアップロード: 18.01秒\n",
      "3. デバイスの再起動: 22.64秒\n"
     ]
    }
   ],
   "source": [
    "print(\"1. ファームウェアイメージの生成: {:.2f}秒\".format((27.127+23.531+22.494)/3))\n",
    "print(\"2. ファームウェアイメージのデバイスへのアップロード: {:.2f}秒\".format((17.873+18.240+17.922)/3))\n",
    "print(\"3. デバイスの再起動: {:.2f}秒\".format((22.534+22.743+22.638)/3))"
   ]
  },
  {
   "cell_type": "markdown",
   "metadata": {},
   "source": [
    "### 3. アプリケーションコードの部分適用\n",
    "\n",
    "1. `mix upload.hotswap`\n",
    "\n",
    "この方式ではNervesの再起動は必要ないため、適用の手順は以上のみである。上記のコマンドの実行に要する時間を、`time(1)`によって計測する。\n",
    "\n",
    "3回計測を行い、それらの平均を用いる。"
   ]
  },
  {
   "cell_type": "markdown",
   "metadata": {},
   "source": [
    "#### 1回目"
   ]
  },
  {
   "cell_type": "code",
   "execution_count": 11,
   "metadata": {},
   "outputs": [
    {
     "name": "stdout",
     "output_type": "stream",
     "text": [
      "\n",
      "real\t0m3.414s\n",
      "user\t0m4.708s\n",
      "sys\t0m1.322s\n"
     ]
    }
   ],
   "source": [
    "!cd target_app && time mix upload.hotswap > /dev/null"
   ]
  },
  {
   "cell_type": "markdown",
   "metadata": {},
   "source": [
    "#### 2回め"
   ]
  },
  {
   "cell_type": "code",
   "execution_count": 15,
   "metadata": {},
   "outputs": [
    {
     "name": "stdout",
     "output_type": "stream",
     "text": [
      "\n",
      "real\t0m3.197s\n",
      "user\t0m4.668s\n",
      "sys\t0m1.256s\n"
     ]
    }
   ],
   "source": [
    "!cd target_app && time mix upload.hotswap > /dev/null"
   ]
  },
  {
   "cell_type": "markdown",
   "metadata": {},
   "source": [
    "#### 3回目"
   ]
  },
  {
   "cell_type": "code",
   "execution_count": 16,
   "metadata": {},
   "outputs": [
    {
     "name": "stdout",
     "output_type": "stream",
     "text": [
      "\n",
      "real\t0m2.915s\n",
      "user\t0m4.528s\n",
      "sys\t0m1.200s\n"
     ]
    }
   ],
   "source": [
    "!cd target_app && time mix upload.hotswap > /dev/null"
   ]
  },
  {
   "cell_type": "markdown",
   "metadata": {},
   "source": [
    "#### まとめ"
   ]
  },
  {
   "cell_type": "markdown",
   "metadata": {},
   "source": [
    "print(\"1. `mix upload.hotswap`: {:.2f}秒\".format((3.414+3.197+2.915)/3))"
   ]
  },
  {
   "cell_type": "markdown",
   "metadata": {},
   "source": [
    "#### 適用前後のデバイスとの通信を`ping(1)`で検証する\n",
    "\n",
    "上記の適用を行う前後で、通信の遮断が発生するかどうかを、`ping(1)`コマンドにより検証する。\n",
    "\n",
    "ターミナルを2つ開いておき、一方では以下のコマンドを用いて、`nerves.local`に対して0.1秒間隔で`ping(1)`コマンドを実行する（1）。\n",
    "\n",
    "```\n",
    "ping -i 0.1 nerves.local | while read pi; do echo \"$(date '+[%Y/%m/%d %H:%M:%S]') $pi\"; done\n",
    "```\n",
    "\n",
    "他方では、上述の`mix upload.hotswap`コマンドを`date(1)`コマンドを前後に挟むことで時間を表示して実行する（2）。\n",
    "\n",
    "（1）の結果は以下の通りである。\n",
    "\n",
    "```\n",
    "$ ping -i 0.1 nerves.local | while read pi; do echo \"$(date '+[%Y/%m/%d %H:%M:%S]') $pi\"; done\n",
    "[2021/01/15 16:54:24] PING nerves.local (172.31.68.221): 56 data bytes\n",
    "[2021/01/15 16:54:24] 64 bytes from 172.31.68.221: icmp_seq=0 ttl=64 time=0.726 ms\n",
    "[2021/01/15 16:54:24] 64 bytes from 172.31.68.221: icmp_seq=1 ttl=64 time=0.651 ms\n",
    "[2021/01/15 16:54:24] 64 bytes from 172.31.68.221: icmp_seq=2 ttl=64 time=0.833 ms\n",
    "[2021/01/15 16:54:24] 64 bytes from 172.31.68.221: icmp_seq=3 ttl=64 time=0.920 ms\n",
    "[2021/01/15 16:54:25] 64 bytes from 172.31.68.221: icmp_seq=4 ttl=64 time=0.977 ms\n",
    "[2021/01/15 16:54:25] 64 bytes from 172.31.68.221: icmp_seq=5 ttl=64 time=0.668 ms\n",
    "[2021/01/15 16:54:25] 64 bytes from 172.31.68.221: icmp_seq=6 ttl=64 time=0.840 ms\n",
    "[2021/01/15 16:54:25] 64 bytes from 172.31.68.221: icmp_seq=7 ttl=64 time=0.832 ms\n",
    "[2021/01/15 16:54:25] 64 bytes from 172.31.68.221: icmp_seq=8 ttl=64 time=0.783 ms\n",
    "[2021/01/15 16:54:25] 64 bytes from 172.31.68.221: icmp_seq=9 ttl=64 time=0.774 ms\n",
    "[2021/01/15 16:54:25] 64 bytes from 172.31.68.221: icmp_seq=10 ttl=64 time=0.858 ms\n",
    "[2021/01/15 16:54:25] 64 bytes from 172.31.68.221: icmp_seq=11 ttl=64 time=0.821 ms\n",
    "[2021/01/15 16:54:25] 64 bytes from 172.31.68.221: icmp_seq=12 ttl=64 time=0.865 ms\n",
    "[2021/01/15 16:54:26] 64 bytes from 172.31.68.221: icmp_seq=13 ttl=64 time=0.731 ms\n",
    "[2021/01/15 16:54:26] 64 bytes from 172.31.68.221: icmp_seq=14 ttl=64 time=0.770 ms\n",
    "[2021/01/15 16:54:26] 64 bytes from 172.31.68.221: icmp_seq=15 ttl=64 time=0.624 ms\n",
    "[2021/01/15 16:54:26] 64 bytes from 172.31.68.221: icmp_seq=16 ttl=64 time=0.719 ms\n",
    "[2021/01/15 16:54:26] 64 bytes from 172.31.68.221: icmp_seq=17 ttl=64 time=0.810 ms\n",
    "[2021/01/15 16:54:26] 64 bytes from 172.31.68.221: icmp_seq=18 ttl=64 time=0.685 ms\n",
    "[2021/01/15 16:54:26] 64 bytes from 172.31.68.221: icmp_seq=19 ttl=64 time=0.781 ms\n",
    "[2021/01/15 16:54:26] 64 bytes from 172.31.68.221: icmp_seq=20 ttl=64 time=0.742 ms\n",
    "[2021/01/15 16:54:26] 64 bytes from 172.31.68.221: icmp_seq=21 ttl=64 time=0.816 ms\n",
    "[2021/01/15 16:54:26] 64 bytes from 172.31.68.221: icmp_seq=22 ttl=64 time=0.583 ms\n",
    "[2021/01/15 16:54:27] 64 bytes from 172.31.68.221: icmp_seq=23 ttl=64 time=0.547 ms\n",
    "[2021/01/15 16:54:27] 64 bytes from 172.31.68.221: icmp_seq=24 ttl=64 time=0.618 ms\n",
    "[2021/01/15 16:54:27] 64 bytes from 172.31.68.221: icmp_seq=25 ttl=64 time=0.592 ms\n",
    "[2021/01/15 16:54:27] 64 bytes from 172.31.68.221: icmp_seq=26 ttl=64 time=0.556 ms\n",
    "[2021/01/15 16:54:27] 64 bytes from 172.31.68.221: icmp_seq=27 ttl=64 time=0.525 ms\n",
    "[2021/01/15 16:54:27] 64 bytes from 172.31.68.221: icmp_seq=28 ttl=64 time=0.498 ms\n",
    "[2021/01/15 16:54:27] 64 bytes from 172.31.68.221: icmp_seq=29 ttl=64 time=0.506 ms\n",
    "[2021/01/15 16:54:27] 64 bytes from 172.31.68.221: icmp_seq=30 ttl=64 time=0.504 ms\n",
    "[2021/01/15 16:54:27] 64 bytes from 172.31.68.221: icmp_seq=31 ttl=64 time=0.514 ms\n",
    "[2021/01/15 16:54:27] 64 bytes from 172.31.68.221: icmp_seq=32 ttl=64 time=0.558 ms\n",
    "[2021/01/15 16:54:28] 64 bytes from 172.31.68.221: icmp_seq=33 ttl=64 time=0.556 ms\n",
    "[2021/01/15 16:54:28] 64 bytes from 172.31.68.221: icmp_seq=34 ttl=64 time=0.525 ms\n",
    "[2021/01/15 16:54:28] 64 bytes from 172.31.68.221: icmp_seq=35 ttl=64 time=0.559 ms\n",
    "[2021/01/15 16:54:28] 64 bytes from 172.31.68.221: icmp_seq=36 ttl=64 time=0.547 ms\n",
    "[2021/01/15 16:54:28] 64 bytes from 172.31.68.221: icmp_seq=37 ttl=64 time=0.517 ms\n",
    "[2021/01/15 16:54:28] 64 bytes from 172.31.68.221: icmp_seq=38 ttl=64 time=0.518 ms\n",
    "[2021/01/15 16:54:28] 64 bytes from 172.31.68.221: icmp_seq=39 ttl=64 time=0.534 ms\n",
    "[2021/01/15 16:54:28] 64 bytes from 172.31.68.221: icmp_seq=40 ttl=64 time=0.617 ms\n",
    "[2021/01/15 16:54:28] 64 bytes from 172.31.68.221: icmp_seq=41 ttl=64 time=0.530 ms\n",
    "[2021/01/15 16:54:28] 64 bytes from 172.31.68.221: icmp_seq=42 ttl=64 time=0.581 ms\n",
    "[2021/01/15 16:54:29] 64 bytes from 172.31.68.221: icmp_seq=43 ttl=64 time=0.633 ms\n",
    "[2021/01/15 16:54:29] 64 bytes from 172.31.68.221: icmp_seq=44 ttl=64 time=0.534 ms\n",
    "[2021/01/15 16:54:29] 64 bytes from 172.31.68.221: icmp_seq=45 ttl=64 time=0.533 ms\n",
    "[2021/01/15 16:54:29] 64 bytes from 172.31.68.221: icmp_seq=46 ttl=64 time=0.548 ms\n",
    "[2021/01/15 16:54:29] 64 bytes from 172.31.68.221: icmp_seq=47 ttl=64 time=0.520 ms\n",
    "[2021/01/15 16:54:29] 64 bytes from 172.31.68.221: icmp_seq=48 ttl=64 time=0.561 ms\n",
    "[2021/01/15 16:54:29] 64 bytes from 172.31.68.221: icmp_seq=49 ttl=64 time=0.490 ms\n",
    "[2021/01/15 16:54:29] 64 bytes from 172.31.68.221: icmp_seq=50 ttl=64 time=0.524 ms\n",
    "[2021/01/15 16:54:29] 64 bytes from 172.31.68.221: icmp_seq=51 ttl=64 time=0.501 ms\n",
    "[2021/01/15 16:54:29] 64 bytes from 172.31.68.221: icmp_seq=52 ttl=64 time=0.639 ms\n",
    "[2021/01/15 16:54:30] 64 bytes from 172.31.68.221: icmp_seq=53 ttl=64 time=0.735 ms\n",
    "[2021/01/15 16:54:30] 64 bytes from 172.31.68.221: icmp_seq=54 ttl=64 time=0.771 ms\n",
    "[2021/01/15 16:54:30] 64 bytes from 172.31.68.221: icmp_seq=55 ttl=64 time=0.815 ms\n",
    "[2021/01/15 16:54:30] 64 bytes from 172.31.68.221: icmp_seq=56 ttl=64 time=0.841 ms\n",
    "[2021/01/15 16:54:30] 64 bytes from 172.31.68.221: icmp_seq=57 ttl=64 time=0.777 ms\n",
    "[2021/01/15 16:54:30] 64 bytes from 172.31.68.221: icmp_seq=58 ttl=64 time=0.701 ms\n",
    "[2021/01/15 16:54:30] 64 bytes from 172.31.68.221: icmp_seq=59 ttl=64 time=0.688 ms\n",
    "[2021/01/15 16:54:30] 64 bytes from 172.31.68.221: icmp_seq=60 ttl=64 time=0.596 ms\n",
    "[2021/01/15 16:54:30] 64 bytes from 172.31.68.221: icmp_seq=61 ttl=64 time=0.755 ms\n",
    "[2021/01/15 16:54:31] 64 bytes from 172.31.68.221: icmp_seq=62 ttl=64 time=0.586 ms\n",
    "[2021/01/15 16:54:31] 64 bytes from 172.31.68.221: icmp_seq=63 ttl=64 time=0.543 ms\n",
    "[2021/01/15 16:54:31] 64 bytes from 172.31.68.221: icmp_seq=64 ttl=64 time=0.552 ms\n",
    "[2021/01/15 16:54:31] 64 bytes from 172.31.68.221: icmp_seq=65 ttl=64 time=0.760 ms\n",
    "[2021/01/15 16:54:31] 64 bytes from 172.31.68.221: icmp_seq=66 ttl=64 time=0.844 ms\n",
    "[2021/01/15 16:54:31] 64 bytes from 172.31.68.221: icmp_seq=67 ttl=64 time=0.870 ms\n",
    "^C\n",
    "```\n",
    "\n",
    "（2）の結果は以下の通りである。\n",
    "\n",
    "```\n",
    "$ date '+[%Y/%m/%d %H:%M:%S]'; mix upload.hotswap; date '+[%Y/%m/%d %H:%M:%S]'\n",
    "[2021/01/15 16:54:26]\n",
    "==> nerves\n",
    "make[1]: Nothing to be done for `all'.\n",
    "==> target_app\n",
    "\n",
    "Nerves environment\n",
    "  MIX_TARGET:   rpi3\n",
    "  MIX_ENV:      dev\n",
    "\n",
    "Compiling 2 files (.ex)\n",
    "Generated target_app app\n",
    "Successfully connected to hot_upload_test@nerves.local\n",
    "Successfully deployed Elixir.TargetApp to hot_upload_test@nerves.local\n",
    "Successfully deployed Elixir.TargetApp.Application to hot_upload_test@nerves.local\n",
    "[2021/01/15 16:54:29]\n",
    "```\n",
    "\n",
    "よって、（1）の`ping(1)`の実行中に、（2）のコマンド実行による通信の切断は見られなかった。"
   ]
  },
  {
   "cell_type": "markdown",
   "metadata": {},
   "source": [
    "### 各方式の計測結果のまとめ\n",
    "\n",
    "|                         | firmware build | firmware upload | reboot | code update | sum   |\n",
    "|-------------------------|----------------|-----------------|--------|-------------|-------|\n",
    "| firmware update (full)  |          21.19 |           14.48 |  22.70 |           - | 58.37 |\n",
    "| firmware update (patch) |          24.38 |           18.01 |  22.64 |           - | 65.04 |\n",
    "| proposed method         |              - |               - |      - |        3.18 |  3.18 |"
   ]
  }
 ],
 "metadata": {
  "kernelspec": {
   "display_name": "Python 3",
   "language": "python",
   "name": "python3"
  },
  "language_info": {
   "codemirror_mode": {
    "name": "ipython",
    "version": 3
   },
   "file_extension": ".py",
   "mimetype": "text/x-python",
   "name": "python",
   "nbconvert_exporter": "python",
   "pygments_lexer": "ipython3",
   "version": "3.8.1"
  }
 },
 "nbformat": 4,
 "nbformat_minor": 4
}
