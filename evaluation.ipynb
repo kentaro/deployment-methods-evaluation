{
 "cells": [
  {
   "cell_type": "markdown",
   "metadata": {},
   "source": [
    "# IoTアプリケーションの開発効率の向上を目的とした開発者によるコードの変更を部分適用する方式の提案と実装\n",
    "\n",
    "このノートブックは、研究報告論文「IoTアプリケーションの開発効率の向上を目的とした開発者によるコードの変更を部分適用する方式の提案と実装」における提案方式の実装を、既存方式と比較検討した際のプロトコルを記録しておくためのものである。\n",
    "\n",
    "計測方法について、北九州市立大学の山崎進氏による記事「[mix_tasks_upload_hotswap の Hexライブラリ版を試す](https://qiita.com/zacky1972/items/f0b47eded7c902008871)」がおおいに参考になりました。感謝いたします。\n",
    "\n",
    "## 更新対象とするIoTアプリケーション\n",
    "\n",
    "各方式の比較検討に用いるアプリケーションは、本リポジトリの[target_app](./target_app)ディレクトリに収められている。そのうちの、以下に抜粋したコードに含まれる`TargetApp.hello/0`メソッドが返す文字列を変更することで、コードの変更とする。\n",
    "\n",
    "```\n",
    "defmodule TargetApp do\n",
    "  def hello do\n",
    "    :world\n",
    "  end\n",
    "end\n",
    "```\n",
    "\n",
    "## 比較検討する方式\n",
    "\n",
    "上記のIoTアプリケーションコードの変更をIoTデバイスに適用する方式として、以下の3つについて比較検討する。\n",
    "\n",
    "1. ファームウェアイメージ全体の適用\n",
    "2. ファームウェアイメージのパッチによる部分適用\n",
    "3. アプリケーションコードの部分適用\n",
    "\n",
    "それぞれの詳細については、研究報告論文を参照されたい。\n",
    "\n",
    "## 比較検討の方法\n",
    "\n",
    "各方式を比較するための指標として、開発者によるコードの変更をIoTデバイスに適用し、アプリケーションが通信可能となるまでの時間を用いる。\n",
    "\n",
    "方式を実装したIoTデバイス開発プラットフォームとして、Nervesを用いる。筆者による提案方式3.の実装を加えると、上記の方式をすべて実装しているのがNervesだからである。ハードウェアとしては、Raspberry Piを用いる。\n",
    "\n",
    "方式1.および2.については、スクリプト[measure_firmware_update.sh](./measure_firmware_update.sh)を用いて、以下の時間を計測する。\n",
    "\n",
    "1. ファームウェアイメージの生成\n",
    "2. ファームウェアイメージのデバイスへのアップロード\n",
    "3. デバイスの再起動\n",
    "\n",
    "方式3.については、提案方式を実装した`mix upload.hotswap`コマンドの実行時間を、`time(1)`によって計測する。\n",
    "\n",
    "## 実験環境\n",
    "\n",
    "### 開発環境\n",
    "\n",
    "* MacBook Pro (13-inch, 2018, Four Thunderbolt 3 Ports)\n",
    "* プロサッサ: 2.7 GHz クアッドコアIntel Core i7\n",
    "* メモリ: 16 GB 2133 MHz LPDDR3\n",
    "\n",
    "### IoTデバイス\n",
    "\n",
    "* Raspberry Pi 3 Model B\n",
    "* 開発環境との通信: 有線LAN\n",
    "\n",
    "### Elixir/Nervesのバージョン\n",
    "\n",
    "* Nerves: 1.7.1\n",
    "* Nerves Bootstrap: 1.10.1\n",
    "* Elixir: 1.11.2\n",
    "\n",
    "このNotebookでは、Nervesの開発環境の整備については解説しない。「[ElixirでIoT#4.1：Nerves開発環境の準備（2020年11月版）](https://qiita.com/takasehideki/items/88dda57758051d45fcf9)」等の記事を参照されたい。"
   ]
  },
  {
   "cell_type": "markdown",
   "metadata": {},
   "source": [
    "## 実験\n",
    "\n",
    "### 1. ファームウェアイメージ全体の適用\n",
    "\n",
    "スクリプト[measure_firmware_update.sh](./measure_firmware_update.sh)を用いて、以下に要する時間を計測する。\n",
    "\n",
    "1. `mix firmware`\n",
    "2. `mix upload`\n",
    "3. Nervesが再起動して`ping(1)`が通るようになるまでの時間\n",
    "\n",
    "3回計測を行い、それらの平均を用いる。"
   ]
  },
  {
   "cell_type": "markdown",
   "metadata": {},
   "source": [
    "#### 1回目"
   ]
  },
  {
   "cell_type": "code",
   "execution_count": 4,
   "metadata": {},
   "outputs": [
    {
     "name": "stdout",
     "output_type": "stream",
     "text": [
      "nerves.local is at 172.31.68.221\n",
      "\n",
      "Time to build firmware (mix firmware)\n",
      "======================================\n",
      "\n",
      "real\t0m21.927s\n",
      "user\t0m6.584s\n",
      "sys\t0m2.121s\n",
      "\n",
      "Time to upload firmware\n",
      "======================================\n",
      "\n",
      "real\t0m14.572s\n",
      "user\t0m5.182s\n",
      "sys\t0m1.261s\n",
      "\n",
      "Time to reboot\n",
      "======================================\n",
      "\n",
      "time: 22.692 sec.\n",
      "\n"
     ]
    }
   ],
   "source": [
    "!cd target_app && ../measure_firmware_update.sh firmware"
   ]
  },
  {
   "cell_type": "markdown",
   "metadata": {},
   "source": [
    "#### 2回目"
   ]
  },
  {
   "cell_type": "code",
   "execution_count": 1,
   "metadata": {},
   "outputs": [
    {
     "name": "stdout",
     "output_type": "stream",
     "text": [
      "nerves.local is at 172.31.68.221\n",
      "\n",
      "Time to build firmware (mix firmware)\n",
      "======================================\n",
      "\n",
      "real\t0m20.573s\n",
      "user\t0m6.462s\n",
      "sys\t0m2.150s\n",
      "\n",
      "Time to upload firmware\n",
      "======================================\n",
      "\n",
      "real\t0m14.527s\n",
      "user\t0m5.599s\n",
      "sys\t0m1.337s\n",
      "\n",
      "Time to reboot\n",
      "======================================\n",
      "\n",
      "time: 22.522 sec.\n",
      "\n"
     ]
    }
   ],
   "source": [
    "!cd target_app && ../measure_firmware_update.sh firmware"
   ]
  },
  {
   "cell_type": "markdown",
   "metadata": {},
   "source": [
    "#### 3回目"
   ]
  },
  {
   "cell_type": "code",
   "execution_count": 5,
   "metadata": {},
   "outputs": [
    {
     "name": "stdout",
     "output_type": "stream",
     "text": [
      "nerves.local is at 172.31.68.221\n",
      "\n",
      "Time to build firmware (mix firmware)\n",
      "======================================\n",
      "\n",
      "real\t0m21.081s\n",
      "user\t0m6.499s\n",
      "sys\t0m2.020s\n",
      "\n",
      "Time to upload firmware\n",
      "======================================\n",
      "\n",
      "real\t0m14.328s\n",
      "user\t0m5.159s\n",
      "sys\t0m1.214s\n",
      "\n",
      "Time to reboot\n",
      "======================================\n",
      "\n",
      "time: 22.880 sec.\n",
      "\n"
     ]
    }
   ],
   "source": [
    "!cd target_app && ../measure_firmware_update.sh firmware"
   ]
  },
  {
   "cell_type": "markdown",
   "metadata": {},
   "source": [
    "#### まとめ"
   ]
  },
  {
   "cell_type": "code",
   "execution_count": 11,
   "metadata": {},
   "outputs": [
    {
     "name": "stdout",
     "output_type": "stream",
     "text": [
      "1. ファームウェアイメージの生成: 21.19秒\n",
      "2. ファームウェアイメージのデバイスへのアップロード: 14.48秒\n",
      "3. デバイスの再起動: 22.70秒\n"
     ]
    }
   ],
   "source": [
    "print(\"1. ファームウェアイメージの生成: {:.2f}秒\".format((21.927+20.573+21.081)/3))\n",
    "print(\"2. ファームウェアイメージのデバイスへのアップロード: {:.2f}秒\".format((14.572+14.527+14.328)/3))\n",
    "print(\"3. デバイスの再起動: {:.2f}秒\".format((22.692+22.522+22.880)/3))"
   ]
  },
  {
   "cell_type": "markdown",
   "metadata": {},
   "source": [
    "### 2. ファームウェアイメージのパッチによる部分適用\n",
    "\n",
    "スクリプト[measure_firmware_update.sh](./measure_firmware_update.sh)を用いて、以下に要する時間を計測する。\n",
    "\n",
    "1. `mix firmware.patch`\n",
    "2. `mix upload --firmware _build/rpi3_dev/nerves/images/patch.fw`\n",
    "3. Nervesが再起動して`ping(1)`が通るようになるまでの時間\n",
    "\n",
    "3回計測を行い、それらの平均を用いる。"
   ]
  },
  {
   "cell_type": "markdown",
   "metadata": {},
   "source": [
    "#### 1回目"
   ]
  },
  {
   "cell_type": "code",
   "execution_count": 8,
   "metadata": {},
   "outputs": [
    {
     "name": "stdout",
     "output_type": "stream",
     "text": [
      "nerves.local is at 172.31.68.221\n",
      "\n",
      "Time to build firmware (mix firmware.patch)\n",
      "======================================\n",
      "\n",
      "real\t0m27.127s\n",
      "user\t0m6.697s\n",
      "sys\t0m2.227s\n",
      "\n",
      "Time to upload firmware\n",
      "======================================\n",
      "\n",
      "real\t0m17.873s\n",
      "user\t0m3.897s\n",
      "sys\t0m0.952s\n",
      "\n",
      "Time to reboot\n",
      "======================================\n",
      "\n",
      "time: 22.534 sec.\n",
      "\n"
     ]
    }
   ],
   "source": [
    "!cd target_app && ../measure_firmware_update.sh firmware.patch"
   ]
  },
  {
   "cell_type": "markdown",
   "metadata": {},
   "source": [
    "#### 2回目"
   ]
  },
  {
   "cell_type": "code",
   "execution_count": 2,
   "metadata": {},
   "outputs": [
    {
     "name": "stdout",
     "output_type": "stream",
     "text": [
      "nerves.local is at 172.31.68.221\n",
      "\n",
      "Time to build firmware (mix firmware.patch)\n",
      "======================================\n",
      "\n",
      "real\t0m23.531s\n",
      "user\t0m6.589s\n",
      "sys\t0m2.185s\n",
      "\n",
      "Time to upload firmware\n",
      "======================================\n",
      "\n",
      "real\t0m18.240s\n",
      "user\t0m3.959s\n",
      "sys\t0m1.007s\n",
      "\n",
      "Time to reboot\n",
      "======================================\n",
      "\n",
      "time: 22.743 sec.\n",
      "\n"
     ]
    }
   ],
   "source": [
    "!cd target_app && ../measure_firmware_update.sh firmware.patch"
   ]
  },
  {
   "cell_type": "markdown",
   "metadata": {},
   "source": [
    "#### 3回目"
   ]
  },
  {
   "cell_type": "code",
   "execution_count": 13,
   "metadata": {},
   "outputs": [
    {
     "name": "stdout",
     "output_type": "stream",
     "text": [
      "nerves.local is at 172.31.68.221\n",
      "\n",
      "Time to build firmware (mix firmware.patch)\n",
      "======================================\n",
      "\n",
      "real\t0m22.494s\n",
      "user\t0m6.610s\n",
      "sys\t0m2.180s\n",
      "\n",
      "Time to upload firmware\n",
      "======================================\n",
      "\n",
      "real\t0m17.922s\n",
      "user\t0m4.169s\n",
      "sys\t0m1.062s\n",
      "\n",
      "Time to reboot\n",
      "======================================\n",
      "\n",
      "time: 22.638 sec.\n",
      "\n"
     ]
    }
   ],
   "source": [
    "!cd target_app && ../measure_firmware_update.sh firmware.patch"
   ]
  },
  {
   "cell_type": "markdown",
   "metadata": {},
   "source": [
    "#### まとめ"
   ]
  },
  {
   "cell_type": "code",
   "execution_count": 17,
   "metadata": {},
   "outputs": [
    {
     "name": "stdout",
     "output_type": "stream",
     "text": [
      "1. ファームウェアイメージの生成: 24.38秒\n",
      "2. ファームウェアイメージのデバイスへのアップロード: 18.01秒\n",
      "3. デバイスの再起動: 22.64秒\n"
     ]
    }
   ],
   "source": [
    "print(\"1. ファームウェアイメージの生成: {:.2f}秒\".format((27.127+23.531+22.494)/3))\n",
    "print(\"2. ファームウェアイメージのデバイスへのアップロード: {:.2f}秒\".format((17.873+18.240+17.922)/3))\n",
    "print(\"3. デバイスの再起動: {:.2f}秒\".format((22.534+22.743+22.638)/3))"
   ]
  },
  {
   "cell_type": "markdown",
   "metadata": {},
   "source": [
    "### 3. アプリケーションコードの部分適用\n",
    "\n",
    "1. `mix upload.hotswap`\n",
    "\n",
    "この方式ではNervesの再起動は必要ないため、適用の手順は以上のみである。上記のコマンドの実行に要する時間を、`time(1)`によって計測する。\n",
    "\n",
    "3回計測を行い、それらの平均を用いる。"
   ]
  },
  {
   "cell_type": "markdown",
   "metadata": {},
   "source": [
    "#### 1回目"
   ]
  },
  {
   "cell_type": "code",
   "execution_count": 11,
   "metadata": {},
   "outputs": [
    {
     "name": "stdout",
     "output_type": "stream",
     "text": [
      "\n",
      "real\t0m3.414s\n",
      "user\t0m4.708s\n",
      "sys\t0m1.322s\n"
     ]
    }
   ],
   "source": [
    "!cd target_app && time mix upload.hotswap > /dev/null"
   ]
  },
  {
   "cell_type": "markdown",
   "metadata": {},
   "source": [
    "#### 2回め"
   ]
  },
  {
   "cell_type": "code",
   "execution_count": 15,
   "metadata": {},
   "outputs": [
    {
     "name": "stdout",
     "output_type": "stream",
     "text": [
      "\n",
      "real\t0m3.197s\n",
      "user\t0m4.668s\n",
      "sys\t0m1.256s\n"
     ]
    }
   ],
   "source": [
    "!cd target_app && time mix upload.hotswap > /dev/null"
   ]
  },
  {
   "cell_type": "markdown",
   "metadata": {},
   "source": [
    "#### 3回目"
   ]
  },
  {
   "cell_type": "code",
   "execution_count": 16,
   "metadata": {},
   "outputs": [
    {
     "name": "stdout",
     "output_type": "stream",
     "text": [
      "\n",
      "real\t0m2.915s\n",
      "user\t0m4.528s\n",
      "sys\t0m1.200s\n"
     ]
    }
   ],
   "source": [
    "!cd target_app && time mix upload.hotswap > /dev/null"
   ]
  },
  {
   "cell_type": "markdown",
   "metadata": {},
   "source": [
    "#### まとめ"
   ]
  },
  {
   "cell_type": "code",
   "execution_count": 18,
   "metadata": {},
   "outputs": [
    {
     "name": "stdout",
     "output_type": "stream",
     "text": [
      "1. `mix upload.hotswap`: 3.18秒\n"
     ]
    }
   ],
   "source": [
    "print(\"1. `mix upload.hotswap`: {:.2f}秒\".format((3.414+3.197+2.915)/3))"
   ]
  },
  {
   "cell_type": "markdown",
   "metadata": {},
   "source": [
    "### 各方式の計測結果のまとめ\n",
    "\n",
    "|                         | firmware build | firmware upload | reboot | code update | sum   |\n",
    "|-------------------------|----------------|-----------------|--------|-------------|-------|\n",
    "| firmware update (full)  |          21.19 |           14.48 |  22.70 |           - | 58.37 |\n",
    "| firmware update (patch) |          24.38 |           18.01 |  22.64 |           - | 65.04 |\n",
    "| proposed method         |              - |               - |      - |        3.18 |  3.18 |"
   ]
  }
 ],
 "metadata": {
  "kernelspec": {
   "display_name": "Python 3",
   "language": "python",
   "name": "python3"
  },
  "language_info": {
   "codemirror_mode": {
    "name": "ipython",
    "version": 3
   },
   "file_extension": ".py",
   "mimetype": "text/x-python",
   "name": "python",
   "nbconvert_exporter": "python",
   "pygments_lexer": "ipython3",
   "version": "3.8.1"
  }
 },
 "nbformat": 4,
 "nbformat_minor": 4
}
