{
 "cells": [
  {
   "cell_type": "markdown",
   "metadata": {},
   "source": [
    "# IoTアプリケーションの開発効率の向上を目的とした開発者によるコードの変更を部分適用する方式の提案と実装\n",
    "\n",
    "このノートブックは、研究報告「IoTアプリケーションの開発効率の向上を目的とした開発者によるコードの変更を部分適用する方式の提案と実装」における方式の検証を目的とするものである。\n",
    "\n",
    "Nervesを用いて実装したIoTアプリケーションについて、開発者によるコードの変更をIoTデバイスへ適用する方式を比較検討する。\n",
    "\n",
    "計測方法について、北九州市立大学の山崎進氏による「[mix_tasks_upload_hotswap の Hexライブラリ版を試す](https://qiita.com/zacky1972/items/f0b47eded7c902008871)」がおおいに参考になりました。感謝いたします。\n",
    "\n",
    "## 対象とするIoTアプリケーション\n",
    "\n",
    "各方式の比較検討に用いるアプリケーションは、以下の通りである。`TargetApp.hello/0`メソッドが返す文字列を変更する。\n",
    "\n",
    "```\n",
    "defmodule TargetApp do\n",
    "  def hello do\n",
    "    :world\n",
    "  end\n",
    "end\n",
    "```\n",
    "\n",
    "## 比較検討する方式\n",
    "\n",
    "1. ファームウェアイメージ全体の適用\n",
    "2. ファームウェアイメージのパッチによる部分適用\n",
    "3. アプリケーションコードの部分適用\n",
    "\n",
    "それぞれの詳細については、研究報告論文を参照のこと。\n",
    "\n",
    "## 比較検討の方法\n",
    "\n",
    "方式の比較に用いる指標は、開発者によるコードの変更をIoTデバイスに適用し、アプリケーションが動作するまでの時間を用いる。\n",
    "\n",
    "計測には、1.および2.についてはスクリプト[./measure_firmware_update.sh](./measure_firmware_update.sh)を用い、3.については`mix upload.hotswap`コマンドの実行を`time(1)`によって計測する。\n",
    "\n",
    "```\n",
    "#!/bin/sh\n",
    "\n",
    "BUILD_METHOD=$1\n",
    "\n",
    "if [ -z \"$BUILD_METHOD\" ]\n",
    "then\n",
    "  echo \"usage: $0 [firmware | firmware.patch]\"\n",
    "  exit 1\n",
    "fi\n",
    "\n",
    "set -u\n",
    "\n",
    "IP_ADDRESS=$(ping -c 1 nerves.local | grep 'PING nerves.local' | perl -nle 's/^.+\\((\\d+\\.\\d+\\.\\d+\\.\\d+)\\).+$/$1/; print')\n",
    "echo \"nerves.local is at $IP_ADDRESS\"\n",
    "echo \"\"\n",
    "\n",
    "echo \"Time to build firmware (mix $BUILD_METHOD)\"\n",
    "echo \"======================================\"\n",
    "\n",
    "time mix \"$BUILD_METHOD\" > /dev/null\n",
    "echo \"\"\n",
    "\n",
    "echo \"Time to upload firmware\"\n",
    "echo \"======================================\"\n",
    "\n",
    "if [ \"$BUILD_METHOD\" = \"firmware\" ]\n",
    "then\n",
    "  time mix upload > /dev/null\n",
    "else\n",
    "  time mix upload --firmware _build/rpi3_dev/nerves/images/patch.fw > /dev/null\n",
    "fi\n",
    "echo \"\"\n",
    "\n",
    "echo \"Time to reboot\"\n",
    "echo \"======================================\"\n",
    "echo \"\"\n",
    "\n",
    "START_TIME=$(gdate +\"%s.%3N\")\n",
    "\n",
    "# 再起動に入るまでしばらく時間がかかる。\n",
    "# その間はpingは通るので、通らなくなるまでpingし続ける。\n",
    "ping -c 1 -t 1 \"$IP_ADDRESS\" > /dev/null\n",
    "\n",
    "# pingが通らなくなったら終了ステータスが2になる\n",
    "while [ $? -ne 2 ] \n",
    "do\n",
    "  ping -c 1 -t 1 -i 0.1 \"$IP_ADDRESS\" > /dev/null\n",
    "done\n",
    "\n",
    "# pingが通らなくなったら再起動中ということなので、\n",
    "# あらためてタイムアウトを長く設定してpingする\n",
    "ping -c 1 -t 100 \"$IP_ADDRESS\" > /dev/null\n",
    "\n",
    "END_TIME=$(gdate +\"%s.%3N\")\n",
    "DURATION=$(echo \"scale=1; $END_TIME - $START_TIME\" | bc)\n",
    "echo \"time: $DURATION sec.\"\n",
    "echo \"\"\n",
    "```"
   ]
  },
  {
   "cell_type": "markdown",
   "metadata": {},
   "source": [
    "### 1. ファームウェアイメージ全体の適用\n",
    "\n",
    "1. `mix firmware`\n",
    "2. `mix upload`\n",
    "3. Nervesが再起動して`ping(1)`が通るようになるまでの時間\n",
    "\n",
    "を計測する。"
   ]
  },
  {
   "cell_type": "code",
   "execution_count": 4,
   "metadata": {},
   "outputs": [
    {
     "name": "stdout",
     "output_type": "stream",
     "text": [
      "nerves.local is at 172.31.68.221\n",
      "\n",
      "Time to build firmware (mix firmware)\n",
      "======================================\n",
      "\n",
      "real\t0m21.927s\n",
      "user\t0m6.584s\n",
      "sys\t0m2.121s\n",
      "\n",
      "Time to upload firmware\n",
      "======================================\n",
      "\n",
      "real\t0m14.572s\n",
      "user\t0m5.182s\n",
      "sys\t0m1.261s\n",
      "\n",
      "Time to reboot\n",
      "======================================\n",
      "\n",
      "time: 22.692 sec.\n",
      "\n"
     ]
    }
   ],
   "source": [
    "!cd target_app && ../measure_firmware_update.sh firmware"
   ]
  },
  {
   "cell_type": "markdown",
   "metadata": {},
   "source": [
    "### 2. ファームウェアイメージのパッチによる部分適用\n",
    "\n",
    "1. `mix firmware.patch`\n",
    "2. `mix upload --firmware _build/rpi3_dev/nerves/images/patch.fw`\n",
    "3. Nervesが再起動して`ping(1)`が通るようになるまでの時間\n",
    "\n",
    "を計測する。"
   ]
  },
  {
   "cell_type": "code",
   "execution_count": 8,
   "metadata": {},
   "outputs": [
    {
     "name": "stdout",
     "output_type": "stream",
     "text": [
      "nerves.local is at 172.31.68.221\n",
      "\n",
      "Time to build firmware (mix firmware.patch)\n",
      "======================================\n",
      "\n",
      "real\t0m27.127s\n",
      "user\t0m6.697s\n",
      "sys\t0m2.227s\n",
      "\n",
      "Time to upload firmware\n",
      "======================================\n",
      "\n",
      "real\t0m17.873s\n",
      "user\t0m3.897s\n",
      "sys\t0m0.952s\n",
      "\n",
      "Time to reboot\n",
      "======================================\n",
      "\n",
      "time: 22.534 sec.\n",
      "\n"
     ]
    }
   ],
   "source": [
    "!cd target_app && ../measure_firmware_update.sh firmware.patch"
   ]
  },
  {
   "cell_type": "markdown",
   "metadata": {},
   "source": [
    "### 3. アプリケーションコードの部分適用\n",
    "\n",
    "1. `mix upload.hotswap`\n",
    "\n",
    "を計測する。この方式ではNervesの再起動は必要ないため、適用の手順は以上のみである。"
   ]
  },
  {
   "cell_type": "code",
   "execution_count": 9,
   "metadata": {},
   "outputs": [
    {
     "name": "stdout",
     "output_type": "stream",
     "text": [
      "** (Mix) The task \"upload.hotswap\" could not be found. Did you mean \"upload\"?\n",
      "\n",
      "real\t0m2.957s\n",
      "user\t0m4.714s\n",
      "sys\t0m1.225s\n"
     ]
    }
   ],
   "source": [
    "!cd target_app && time mix upload.hotswap > /dev/null"
   ]
  }
 ],
 "metadata": {
  "kernelspec": {
   "display_name": "Python 3",
   "language": "python",
   "name": "python3"
  },
  "language_info": {
   "codemirror_mode": {
    "name": "ipython",
    "version": 3
   },
   "file_extension": ".py",
   "mimetype": "text/x-python",
   "name": "python",
   "nbconvert_exporter": "python",
   "pygments_lexer": "ipython3",
   "version": "3.8.1"
  }
 },
 "nbformat": 4,
 "nbformat_minor": 4
}
