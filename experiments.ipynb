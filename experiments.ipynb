{
 "cells": [
  {
   "cell_type": "markdown",
   "metadata": {},
   "source": [
    "# IoTアプリケーションの開発効率の向上を目的とした開発者によるコードの変更を動的に適用する方式の提案と実装\n",
    "\n",
    "このノートブックは、情報処理学会の[第207回SE研究発表会](http://www.ipsj.or.jp/kenkyukai/event/se207.html)において口頭発表予定の研究報告論文「IoTアプリケーションの開発効率の向上を目的とした開発者によるコードの変更を動的に適用する方式の提案と実装」のための実験について詳細を記録・公開するためのリポジトリである。\n",
    "\n",
    "## 更新対象とするIoTアプリケーション\n",
    "\n",
    "各方式の比較検討に用いるアプリケーションは、本リポジトリの[target_app](./target_app)ディレクトリに収められている、IoTデバイス上で動作するEchoサーバが更新対象のアプリケーションである。\n",
    "\n",
    "## 比較検討する方式\n",
    "\n",
    "上記のIoTアプリケーションコードの変更をIoTデバイスに適用する方式として、以下の3つについて比較検討する。\n",
    "\n",
    "1. ファームウェアイメージの全体を適用する方式\n",
    "2. ファームウェアイメージの差分を適用する方式\n",
    "3. アプリケーションコードを動的に適用する方式（提案方式）\n",
    "\n",
    "それぞれの詳細については、研究報告論文を参照されたい。\n",
    "\n",
    "## 比較検討の方法\n",
    "\n",
    "各方式を比較するための指標として、開発者によるコードの変更をデバイスに適用し、更新対象のIoTアプリケーション（Echoサーバ）がTCP通信可能となるまでの時間を用いる。\n",
    "\n",
    "方式を実装するためのIoTデバイス開発プラットフォームとして、[Nerves](https://www.nerves-project.org/)を用いる。筆者らによる提案方式3.の実装を加えると、上記3つの方式をすべて実装しているのがNervesだからである。ハードウェアとしては、Raspberry Piを用いる。\n",
    "\n",
    "方式1.および2.については、スクリプト[measure.sh](./measure.sh)を用いて、以下の時間をそれぞれ計測する。\n",
    "\n",
    "1. ファームウェアイメージの生成（`time(1)`で計測）\n",
    "2. ファームウェアイメージのデバイスへの送信および適用（`time(1)`で計測）\n",
    "3. デバイスの再起動（`ping(1)`で通信が疎通するまでの時間を計測。タイムアウトを100msに設定してループ）\n",
    "4. IoTアプリケーションの起動（`necat(1)`でTCP通信が疎通するまでの時間を計測。タイムアウトを1msに設定してループ(※)）\n",
    "\n",
    "※ ただし、実際には1msの粒度ではループしない。下記の実験環境においては、短くても10ms程度にとどまるようであった。\n",
    "\n",
    "方式3.ではIoTデバイスの再起動は必要ないため、以下に要する時間を計測する。\n",
    "\n",
    "1. コードの変更のデバイスへの適用（`time(1)`で計測）\n",
    "2. IoTアプリケーションの再起動（`necat(1)`でTCP通信が疎通するまでの時間を計測）\n",
    "\n",
    "3回計測を行い、それらの平均を用いる。\n",
    "\n",
    "また、それぞれの方式について、アップデート対象となるファームウェアあるいはコードの容量についても付記する。\n",
    "\n",
    "## 実験環境\n",
    "\n",
    "### 開発環境\n",
    "\n",
    "* Model: MacBook Pro 13-inch, 2018\n",
    "* CPU: 2.7 GHz Quad-Core Intel Core i7\n",
    "* Memory: 16 GB 2133 MHz LPDDR3\n",
    "\n",
    "### IoTデバイス\n",
    "\n",
    "* Raspberry Pi 3 Model B\n",
    "* 開発環境との通信: 有線LAN\n",
    "* プラットフォーム: Nerves 1.7.2\n",
    "\n",
    "このNotebookでは、Nervesの開発環境の整備については解説しない。「[ElixirでIoT#4.1：Nerves開発環境の準備（2020年11月版）](https://qiita.com/takasehideki/items/88dda57758051d45fcf9)」等の記事を参照されたい。"
   ]
  },
  {
   "cell_type": "markdown",
   "metadata": {},
   "source": [
    "## 実験\n",
    "\n",
    "実験では、筆者らが用意したスクリプト[measure.sh](./measure.sh)を用いる。\n",
    "\n",
    "### 1. ファームウェアイメージ全体の適用\n",
    "\n",
    "以下に要する時間を計測する。\n",
    "\n",
    "1. ファームウェアイメージ全体の生成（`time(1)`で計測）\n",
    "2. ファームウェアイメージのデバイスへの送信と適用（`time(1)`で計測）\n",
    "3. デバイスの再起動（`ping(1)`で通信が疎通するまでの時間を計測）\n",
    "4. IoTアプリケーションの起動（`necat(1)`でTCP通信が疎通するまでの時間を計測）\n",
    "\n",
    "3回計測を行い、それらの平均を用いる。"
   ]
  },
  {
   "cell_type": "markdown",
   "metadata": {},
   "source": [
    "#### 1回目"
   ]
  },
  {
   "cell_type": "code",
   "execution_count": 23,
   "metadata": {},
   "outputs": [
    {
     "name": "stdout",
     "output_type": "stream",
     "text": [
      "nerves.local is at 172.31.68.221\n",
      "\n",
      "Time to build firmware (mix firmware)\n",
      "======================================\n",
      "\n",
      "real\t0m28.831s\n",
      "user\t0m6.262s\n",
      "sys\t0m2.410s\n",
      "\n",
      "Time to upload firmware\n",
      "======================================\n",
      "\n",
      "real\t0m14.545s\n",
      "user\t0m5.175s\n",
      "sys\t0m1.254s\n",
      "\n",
      "Time to reboot\n",
      "======================================\n",
      "\n",
      "time: 22.380 sec.\n",
      "\n",
      "Time to accept\n",
      "======================================\n",
      "\n",
      "time: .547 sec. (timeout: 14)\n",
      "\n"
     ]
    }
   ],
   "source": [
    "!cd target_app && ../measure.sh firmware"
   ]
  },
  {
   "cell_type": "markdown",
   "metadata": {},
   "source": [
    "ビルドされたファームウェアのサイズ:"
   ]
  },
  {
   "cell_type": "code",
   "execution_count": 24,
   "metadata": {},
   "outputs": [
    {
     "name": "stdout",
     "output_type": "stream",
     "text": [
      "-rw-r--r--  1 antipop  2033490572    42M  1 21 14:37 target_app/_build/rpi3_dev/nerves/images/target_app.fw\n"
     ]
    }
   ],
   "source": [
    "!ls -lh target_app/_build/rpi3_dev/nerves/images/target_app.fw"
   ]
  },
  {
   "cell_type": "markdown",
   "metadata": {},
   "source": [
    "#### 2回目"
   ]
  },
  {
   "cell_type": "code",
   "execution_count": 27,
   "metadata": {},
   "outputs": [
    {
     "name": "stdout",
     "output_type": "stream",
     "text": [
      "nerves.local is at 172.31.68.221\n",
      "\n",
      "Time to build firmware (mix firmware)\n",
      "======================================\n",
      "\n",
      "real\t0m31.347s\n",
      "user\t0m6.423s\n",
      "sys\t0m2.363s\n",
      "\n",
      "Time to upload firmware\n",
      "======================================\n",
      "\n",
      "real\t0m14.893s\n",
      "user\t0m4.900s\n",
      "sys\t0m1.313s\n",
      "\n",
      "Time to reboot\n",
      "======================================\n",
      "\n",
      "time: 22.492 sec.\n",
      "\n",
      "Time to accept\n",
      "======================================\n",
      "\n",
      "time: .676 sec. (timeout: 21)\n",
      "\n"
     ]
    }
   ],
   "source": [
    "!cd target_app && ../measure.sh firmware"
   ]
  },
  {
   "cell_type": "markdown",
   "metadata": {},
   "source": [
    "ビルドされたファームウェアのサイズ:"
   ]
  },
  {
   "cell_type": "code",
   "execution_count": 28,
   "metadata": {},
   "outputs": [
    {
     "name": "stdout",
     "output_type": "stream",
     "text": [
      "-rw-r--r--  1 antipop  2033490572    42M  1 21 14:42 target_app/_build/rpi3_dev/nerves/images/target_app.fw\n"
     ]
    }
   ],
   "source": [
    "!ls -lh target_app/_build/rpi3_dev/nerves/images/target_app.fw"
   ]
  },
  {
   "cell_type": "markdown",
   "metadata": {},
   "source": [
    "#### 3回目"
   ]
  },
  {
   "cell_type": "code",
   "execution_count": 31,
   "metadata": {},
   "outputs": [
    {
     "name": "stdout",
     "output_type": "stream",
     "text": [
      "nerves.local is at 172.31.68.221\n",
      "\n",
      "Time to build firmware (mix firmware)\n",
      "======================================\n",
      "\n",
      "real\t0m28.187s\n",
      "user\t0m6.467s\n",
      "sys\t0m2.357s\n",
      "\n",
      "Time to upload firmware\n",
      "======================================\n",
      "\n",
      "real\t0m14.045s\n",
      "user\t0m5.217s\n",
      "sys\t0m1.264s\n",
      "\n",
      "Time to reboot\n",
      "======================================\n",
      "\n",
      "time: 22.666 sec.\n",
      "\n",
      "Time to accept\n",
      "======================================\n",
      "\n",
      "time: .681 sec. (timeout: 21)\n",
      "\n"
     ]
    }
   ],
   "source": [
    "!cd target_app && ../measure.sh firmware"
   ]
  },
  {
   "cell_type": "markdown",
   "metadata": {},
   "source": [
    "ビルドされたファームウェアのサイズ:"
   ]
  },
  {
   "cell_type": "code",
   "execution_count": 32,
   "metadata": {},
   "outputs": [
    {
     "name": "stdout",
     "output_type": "stream",
     "text": [
      "-rw-r--r--  1 antipop  2033490572    42M  1 21 14:49 target_app/_build/rpi3_dev/nerves/images/target_app.fw\n"
     ]
    }
   ],
   "source": [
    "!ls -lh target_app/_build/rpi3_dev/nerves/images/target_app.fw"
   ]
  },
  {
   "cell_type": "markdown",
   "metadata": {},
   "source": [
    "----\n",
    "\n",
    "#### 方式（1）のまとめ"
   ]
  },
  {
   "cell_type": "code",
   "execution_count": 35,
   "metadata": {},
   "outputs": [
    {
     "name": "stdout",
     "output_type": "stream",
     "text": [
      "（1） 29.45秒\n",
      "（2） 14.49秒\n",
      "（3） 22.51秒\n",
      "（4） 0.63秒\n"
     ]
    }
   ],
   "source": [
    "print(\"（1） {:.2f}秒\".format((28.831+31.347+28.187)/3))\n",
    "print(\"（2） {:.2f}秒\".format((14.545+14.893+14.045)/3))\n",
    "print(\"（3） {:.2f}秒\".format((22.380+22.492+22.666)/3))\n",
    "print(\"（4） {:.2f}秒\".format((0.547+0.676+0.681)/3))"
   ]
  },
  {
   "cell_type": "markdown",
   "metadata": {},
   "source": [
    "また、ビルドされたファームウェアのサイズは`42MB`であった。\n",
    "\n",
    "----"
   ]
  },
  {
   "cell_type": "markdown",
   "metadata": {},
   "source": [
    "### 2. ファームウェアイメージ差分の適用\n",
    "\n",
    "以下に要する時間を計測する。\n",
    "\n",
    "1. ファームウェアイメージ差分の生成（`time(1)`で計測）\n",
    "2. ファームウェアイメージ差分のデバイスへの送信と適用（`time(1)`で計測）\n",
    "3. デバイスの再起動（`ping(1)`で通信が疎通するまでの時間を計測）\n",
    "4. IoTアプリケーションの起動（`necat(1)`でTCP通信が疎通するまでの時間を計測）\n",
    "\n",
    "3回計測を行い、それらの平均を用いる。"
   ]
  },
  {
   "cell_type": "markdown",
   "metadata": {},
   "source": [
    "#### 1回目"
   ]
  },
  {
   "cell_type": "code",
   "execution_count": 25,
   "metadata": {},
   "outputs": [
    {
     "name": "stdout",
     "output_type": "stream",
     "text": [
      "nerves.local is at 172.31.68.221\n",
      "\n",
      "Time to build firmware (mix firmware.patch)\n",
      "======================================\n",
      "\n",
      "real\t0m28.464s\n",
      "user\t0m6.116s\n",
      "sys\t0m2.383s\n",
      "\n",
      "Time to upload firmware\n",
      "======================================\n",
      "\n",
      "real\t0m16.972s\n",
      "user\t0m3.800s\n",
      "sys\t0m1.012s\n",
      "\n",
      "Time to reboot\n",
      "======================================\n",
      "\n",
      "time: 22.462 sec.\n",
      "\n",
      "Time to accept\n",
      "======================================\n",
      "\n",
      "time: .496 sec. (timeout: 15)\n",
      "\n"
     ]
    }
   ],
   "source": [
    "!cd target_app && ../measure.sh firmware.patch"
   ]
  },
  {
   "cell_type": "markdown",
   "metadata": {},
   "source": [
    "ビルドされたファームウェア差分のサイズ:"
   ]
  },
  {
   "cell_type": "code",
   "execution_count": 26,
   "metadata": {},
   "outputs": [
    {
     "name": "stdout",
     "output_type": "stream",
     "text": [
      "-rw-r--r--  1 antipop  2033490572   6.0M  1 21 14:40 target_app/_build/rpi3_dev/nerves/images/patch.fw\n"
     ]
    }
   ],
   "source": [
    "!ls -lh target_app/_build/rpi3_dev/nerves/images/patch.fw"
   ]
  },
  {
   "cell_type": "markdown",
   "metadata": {},
   "source": [
    "#### 2回目"
   ]
  },
  {
   "cell_type": "code",
   "execution_count": 29,
   "metadata": {},
   "outputs": [
    {
     "name": "stdout",
     "output_type": "stream",
     "text": [
      "nerves.local is at 172.31.68.221\n",
      "\n",
      "Time to build firmware (mix firmware.patch)\n",
      "======================================\n",
      "\n",
      "real\t0m32.797s\n",
      "user\t0m6.526s\n",
      "sys\t0m2.361s\n",
      "\n",
      "Time to upload firmware\n",
      "======================================\n",
      "\n",
      "real\t0m17.886s\n",
      "user\t0m4.030s\n",
      "sys\t0m1.170s\n",
      "\n",
      "Time to reboot\n",
      "======================================\n",
      "\n",
      "time: 22.465 sec.\n",
      "\n",
      "Time to accept\n",
      "======================================\n",
      "\n",
      "time: .507 sec. (timeout: 15)\n",
      "\n"
     ]
    }
   ],
   "source": [
    "!cd target_app && ../measure.sh firmware.patch"
   ]
  },
  {
   "cell_type": "markdown",
   "metadata": {},
   "source": [
    "ビルドされたファームウェア差分のサイズ:"
   ]
  },
  {
   "cell_type": "code",
   "execution_count": 30,
   "metadata": {},
   "outputs": [
    {
     "name": "stdout",
     "output_type": "stream",
     "text": [
      "-rw-r--r--  1 antipop  2033490572   6.0M  1 21 14:48 target_app/_build/rpi3_dev/nerves/images/patch.fw\n"
     ]
    }
   ],
   "source": [
    "!ls -lh target_app/_build/rpi3_dev/nerves/images/patch.fw"
   ]
  },
  {
   "cell_type": "markdown",
   "metadata": {},
   "source": [
    "#### 3回目"
   ]
  },
  {
   "cell_type": "code",
   "execution_count": 33,
   "metadata": {},
   "outputs": [
    {
     "name": "stdout",
     "output_type": "stream",
     "text": [
      "nerves.local is at 172.31.68.221\n",
      "\n",
      "Time to build firmware (mix firmware.patch)\n",
      "======================================\n",
      "\n",
      "real\t0m29.017s\n",
      "user\t0m6.282s\n",
      "sys\t0m2.338s\n",
      "\n",
      "Time to upload firmware\n",
      "======================================\n",
      "\n",
      "real\t0m17.513s\n",
      "user\t0m3.914s\n",
      "sys\t0m1.132s\n",
      "\n",
      "Time to reboot\n",
      "======================================\n",
      "\n",
      "time: 22.693 sec.\n",
      "\n",
      "Time to accept\n",
      "======================================\n",
      "\n",
      "time: .620 sec. (timeout: 19)\n",
      "\n"
     ]
    }
   ],
   "source": [
    "!cd target_app && ../measure.sh firmware.patch"
   ]
  },
  {
   "cell_type": "markdown",
   "metadata": {},
   "source": [
    "ビルドされたファームウェア差分のサイズ:"
   ]
  },
  {
   "cell_type": "code",
   "execution_count": 34,
   "metadata": {},
   "outputs": [
    {
     "name": "stdout",
     "output_type": "stream",
     "text": [
      "-rw-r--r--  1 antipop  2033490572   6.0M  1 21 14:51 target_app/_build/rpi3_dev/nerves/images/patch.fw\n"
     ]
    }
   ],
   "source": [
    "!ls -lh target_app/_build/rpi3_dev/nerves/images/patch.fw"
   ]
  },
  {
   "cell_type": "markdown",
   "metadata": {},
   "source": [
    "----\n",
    "\n",
    "#### 方式（2）のまとめ"
   ]
  },
  {
   "cell_type": "code",
   "execution_count": 36,
   "metadata": {},
   "outputs": [
    {
     "name": "stdout",
     "output_type": "stream",
     "text": [
      "（1） 30.09秒\n",
      "（2） 17.46秒\n",
      "（3） 22.54秒\n",
      "（4） 0.54秒\n"
     ]
    }
   ],
   "source": [
    "print(\"（1） {:.2f}秒\".format((28.464+32.797+29.017)/3))\n",
    "print(\"（2） {:.2f}秒\".format((16.972+17.886+17.513)/3))\n",
    "print(\"（3） {:.2f}秒\".format((22.462+22.465+22.693)/3))\n",
    "print(\"（4） {:.2f}秒\".format((0.496+0.507+0.620)/3))"
   ]
  },
  {
   "cell_type": "markdown",
   "metadata": {},
   "source": [
    "また、ビルドされたファームウェア差分のサイズは`6MB`であった。\n",
    "\n",
    "----"
   ]
  },
  {
   "cell_type": "markdown",
   "metadata": {},
   "source": [
    "### 3. アプリケーションコードの部分適用\n",
    "\n",
    "この方式ではIoTデバイスの再起動は必要ないため、以下に要する時間を計測する。\n",
    "\n",
    "1. コードの変更のデバイスへの適用（`time(1)`で計測する）\n",
    "4. IoTアプリケーションと`nc(1)`でTCP通信が疎通すること\n",
    "\n",
    "3回計測を行い、それらの平均を用いる。"
   ]
  },
  {
   "cell_type": "markdown",
   "metadata": {},
   "source": [
    "#### 1回目"
   ]
  },
  {
   "cell_type": "code",
   "execution_count": 38,
   "metadata": {},
   "outputs": [
    {
     "name": "stdout",
     "output_type": "stream",
     "text": [
      "nerves.local is at 172.31.68.221\n",
      "\n",
      "Time to hotswap (mix upload.hotswap)\n",
      "======================================\n",
      "\n",
      "real\t0m3.279s\n",
      "user\t0m4.450s\n",
      "sys\t0m1.286s\n",
      "\n",
      "Time to accept\n",
      "======================================\n",
      "\n",
      "time: .042 sec. (timeout: 0)\n",
      "\n"
     ]
    }
   ],
   "source": [
    "!cd target_app && ../measure.sh upload.hotswap"
   ]
  },
  {
   "cell_type": "markdown",
   "metadata": {},
   "source": [
    "#### 2回め"
   ]
  },
  {
   "cell_type": "code",
   "execution_count": 39,
   "metadata": {},
   "outputs": [
    {
     "name": "stdout",
     "output_type": "stream",
     "text": [
      "nerves.local is at 172.31.68.221\n",
      "\n",
      "Time to hotswap (mix upload.hotswap)\n",
      "======================================\n",
      "\n",
      "real\t0m3.342s\n",
      "user\t0m4.769s\n",
      "sys\t0m1.376s\n",
      "\n",
      "Time to accept\n",
      "======================================\n",
      "\n",
      "time: .038 sec. (timeout: 0)\n",
      "\n"
     ]
    }
   ],
   "source": [
    "!cd target_app && ../measure.sh upload.hotswap"
   ]
  },
  {
   "cell_type": "markdown",
   "metadata": {},
   "source": [
    "#### 3回目"
   ]
  },
  {
   "cell_type": "code",
   "execution_count": 40,
   "metadata": {},
   "outputs": [
    {
     "name": "stdout",
     "output_type": "stream",
     "text": [
      "nerves.local is at 172.31.68.221\n",
      "\n",
      "Time to hotswap (mix upload.hotswap)\n",
      "======================================\n",
      "\n",
      "real\t0m3.293s\n",
      "user\t0m4.630s\n",
      "sys\t0m1.332s\n",
      "\n",
      "Time to accept\n",
      "======================================\n",
      "\n",
      "time: .037 sec. (timeout: 0)\n",
      "\n"
     ]
    }
   ],
   "source": [
    "!cd target_app && ../measure.sh upload.hotswap"
   ]
  },
  {
   "cell_type": "markdown",
   "metadata": {},
   "source": [
    "#### 方式（3）のまとめ"
   ]
  },
  {
   "cell_type": "code",
   "execution_count": 42,
   "metadata": {},
   "outputs": [
    {
     "name": "stdout",
     "output_type": "stream",
     "text": [
      "（1） 3.30秒\n",
      "（2） 0.04秒\n"
     ]
    }
   ],
   "source": [
    "print(\"（1） {:.2f}秒\".format((3.279+3.342+3.293)/3))\n",
    "print(\"（2） {:.2f}秒\".format((0.042+0.038+0.037)/3))"
   ]
  },
  {
   "cell_type": "markdown",
   "metadata": {},
   "source": [
    "上記の方式2については、IoTアプリケーションの起動プロセスを検知することができなかったという結論となる。\n",
    "\n",
    "> timeout: 0\n",
    "\n",
    "と表示されている通り、通信断が発生していることを検知できていないからである。平均0.04秒かかっているのは、計測コマンド（`ncat(1)`）の実行とTCP通信に関するオーバヘッドが計測されている。"
   ]
  },
  {
   "cell_type": "markdown",
   "metadata": {},
   "source": [
    "### 各方式の計測結果のまとめ\n",
    "\n",
    "各方式について、上記から以下の通り結果をまとめた。\n",
    "\n",
    "|                     | Firmware Build | Firmware Deployment | Code Deployment | Device Reboot | Application Reboot | Total | Rate  |\n",
    "|---------------------|---------------:|--------------------:|----------------:|--------------:|-------------------:|------:|------:|\n",
    "| Method (1)          |          29.45 |               14.49 |               - |         22.51 |               0.63 | 66.88 |     1 |\n",
    "| Method (2)          |          30.09 |               17.46 |               - |         22.54 |               0.54 | 70.63 |  1.05 |\n",
    "| Proposed Method (3) |              - |                   - |            3.30 |             - |                  N/A |  3.30 |  0.05 |"
   ]
  },
  {
   "cell_type": "markdown",
   "metadata": {},
   "source": [
    "----\n",
    "\n",
    "## 方式（3）についての追加実験\n",
    "\n",
    "上記の方式（3）は，IoTデバイスの再起動をともなわない方式である．一方で，Erlang VM上でのコードの更新は行われるため，以下の2つの面で通信の遮断が発生するかどうかを確認する．\n",
    "\n",
    "1. 適用前後のデバイスとの通信を`ping(1)`で検証する\n",
    "2. 適用前後のIoTアプリケーションとの通信を`nc(1)`で検証する\n",
    "\n",
    "結論としては、1.については遮断は発生しない。2.については発生する。\n",
    "\n",
    "以下に詳細を述べる。\n",
    "\n",
    "### 1. 適用前後のデバイスとの通信を`ping(1)`で検証する\n",
    "\n",
    "上記の適用を行う前後で、通信の遮断が発生するかどうかを、`ping(1)`コマンドにより検証する。\n",
    "\n",
    "（1）ターミナルを2つ開いておき、一方では以下のコマンドを用いて、`nerves.local`に対して0.1秒間隔で`ping(1)`コマンドを実行する。\n",
    "\n",
    "```\n",
    "ping -i 0.1 nerves.local | while read pi; do echo \"$(date '+[%Y/%m/%d %H:%M:%S]') $pi\"; done\n",
    "```\n",
    "\n",
    "（2）他方では、上述の`mix upload.hotswap`コマンドを`date(1)`コマンドを前後に挟むことで時間を表示して実行する。\n",
    "\n",
    "#### （1）の結果\n",
    "\n",
    "（1）の結果は以下の通りである。\n",
    "\n",
    "```\n",
    "$ ping -i 0.1 nerves.local | while read pi; do echo \"$(date '+[%Y/%m/%d %H:%M:%S]') $pi\"; done\n",
    "[2021/01/15 16:54:24] PING nerves.local (172.31.68.221): 56 data bytes\n",
    "[2021/01/15 16:54:24] 64 bytes from 172.31.68.221: icmp_seq=0 ttl=64 time=0.726 ms\n",
    "[2021/01/15 16:54:24] 64 bytes from 172.31.68.221: icmp_seq=1 ttl=64 time=0.651 ms\n",
    "[2021/01/15 16:54:24] 64 bytes from 172.31.68.221: icmp_seq=2 ttl=64 time=0.833 ms\n",
    "[2021/01/15 16:54:24] 64 bytes from 172.31.68.221: icmp_seq=3 ttl=64 time=0.920 ms\n",
    "[2021/01/15 16:54:25] 64 bytes from 172.31.68.221: icmp_seq=4 ttl=64 time=0.977 ms\n",
    "[2021/01/15 16:54:25] 64 bytes from 172.31.68.221: icmp_seq=5 ttl=64 time=0.668 ms\n",
    "[2021/01/15 16:54:25] 64 bytes from 172.31.68.221: icmp_seq=6 ttl=64 time=0.840 ms\n",
    "[2021/01/15 16:54:25] 64 bytes from 172.31.68.221: icmp_seq=7 ttl=64 time=0.832 ms\n",
    "[2021/01/15 16:54:25] 64 bytes from 172.31.68.221: icmp_seq=8 ttl=64 time=0.783 ms\n",
    "[2021/01/15 16:54:25] 64 bytes from 172.31.68.221: icmp_seq=9 ttl=64 time=0.774 ms\n",
    "[2021/01/15 16:54:25] 64 bytes from 172.31.68.221: icmp_seq=10 ttl=64 time=0.858 ms\n",
    "[2021/01/15 16:54:25] 64 bytes from 172.31.68.221: icmp_seq=11 ttl=64 time=0.821 ms\n",
    "[2021/01/15 16:54:25] 64 bytes from 172.31.68.221: icmp_seq=12 ttl=64 time=0.865 ms\n",
    "[2021/01/15 16:54:26] 64 bytes from 172.31.68.221: icmp_seq=13 ttl=64 time=0.731 ms\n",
    "[2021/01/15 16:54:26] 64 bytes from 172.31.68.221: icmp_seq=14 ttl=64 time=0.770 ms\n",
    "[2021/01/15 16:54:26] 64 bytes from 172.31.68.221: icmp_seq=15 ttl=64 time=0.624 ms\n",
    "[2021/01/15 16:54:26] 64 bytes from 172.31.68.221: icmp_seq=16 ttl=64 time=0.719 ms\n",
    "[2021/01/15 16:54:26] 64 bytes from 172.31.68.221: icmp_seq=17 ttl=64 time=0.810 ms\n",
    "[2021/01/15 16:54:26] 64 bytes from 172.31.68.221: icmp_seq=18 ttl=64 time=0.685 ms\n",
    "[2021/01/15 16:54:26] 64 bytes from 172.31.68.221: icmp_seq=19 ttl=64 time=0.781 ms\n",
    "[2021/01/15 16:54:26] 64 bytes from 172.31.68.221: icmp_seq=20 ttl=64 time=0.742 ms\n",
    "[2021/01/15 16:54:26] 64 bytes from 172.31.68.221: icmp_seq=21 ttl=64 time=0.816 ms\n",
    "[2021/01/15 16:54:26] 64 bytes from 172.31.68.221: icmp_seq=22 ttl=64 time=0.583 ms\n",
    "[2021/01/15 16:54:27] 64 bytes from 172.31.68.221: icmp_seq=23 ttl=64 time=0.547 ms\n",
    "[2021/01/15 16:54:27] 64 bytes from 172.31.68.221: icmp_seq=24 ttl=64 time=0.618 ms\n",
    "[2021/01/15 16:54:27] 64 bytes from 172.31.68.221: icmp_seq=25 ttl=64 time=0.592 ms\n",
    "[2021/01/15 16:54:27] 64 bytes from 172.31.68.221: icmp_seq=26 ttl=64 time=0.556 ms\n",
    "[2021/01/15 16:54:27] 64 bytes from 172.31.68.221: icmp_seq=27 ttl=64 time=0.525 ms\n",
    "[2021/01/15 16:54:27] 64 bytes from 172.31.68.221: icmp_seq=28 ttl=64 time=0.498 ms\n",
    "[2021/01/15 16:54:27] 64 bytes from 172.31.68.221: icmp_seq=29 ttl=64 time=0.506 ms\n",
    "[2021/01/15 16:54:27] 64 bytes from 172.31.68.221: icmp_seq=30 ttl=64 time=0.504 ms\n",
    "[2021/01/15 16:54:27] 64 bytes from 172.31.68.221: icmp_seq=31 ttl=64 time=0.514 ms\n",
    "[2021/01/15 16:54:27] 64 bytes from 172.31.68.221: icmp_seq=32 ttl=64 time=0.558 ms\n",
    "[2021/01/15 16:54:28] 64 bytes from 172.31.68.221: icmp_seq=33 ttl=64 time=0.556 ms\n",
    "[2021/01/15 16:54:28] 64 bytes from 172.31.68.221: icmp_seq=34 ttl=64 time=0.525 ms\n",
    "[2021/01/15 16:54:28] 64 bytes from 172.31.68.221: icmp_seq=35 ttl=64 time=0.559 ms\n",
    "[2021/01/15 16:54:28] 64 bytes from 172.31.68.221: icmp_seq=36 ttl=64 time=0.547 ms\n",
    "[2021/01/15 16:54:28] 64 bytes from 172.31.68.221: icmp_seq=37 ttl=64 time=0.517 ms\n",
    "[2021/01/15 16:54:28] 64 bytes from 172.31.68.221: icmp_seq=38 ttl=64 time=0.518 ms\n",
    "[2021/01/15 16:54:28] 64 bytes from 172.31.68.221: icmp_seq=39 ttl=64 time=0.534 ms\n",
    "[2021/01/15 16:54:28] 64 bytes from 172.31.68.221: icmp_seq=40 ttl=64 time=0.617 ms\n",
    "[2021/01/15 16:54:28] 64 bytes from 172.31.68.221: icmp_seq=41 ttl=64 time=0.530 ms\n",
    "[2021/01/15 16:54:28] 64 bytes from 172.31.68.221: icmp_seq=42 ttl=64 time=0.581 ms\n",
    "[2021/01/15 16:54:29] 64 bytes from 172.31.68.221: icmp_seq=43 ttl=64 time=0.633 ms\n",
    "[2021/01/15 16:54:29] 64 bytes from 172.31.68.221: icmp_seq=44 ttl=64 time=0.534 ms\n",
    "[2021/01/15 16:54:29] 64 bytes from 172.31.68.221: icmp_seq=45 ttl=64 time=0.533 ms\n",
    "[2021/01/15 16:54:29] 64 bytes from 172.31.68.221: icmp_seq=46 ttl=64 time=0.548 ms\n",
    "[2021/01/15 16:54:29] 64 bytes from 172.31.68.221: icmp_seq=47 ttl=64 time=0.520 ms\n",
    "[2021/01/15 16:54:29] 64 bytes from 172.31.68.221: icmp_seq=48 ttl=64 time=0.561 ms\n",
    "[2021/01/15 16:54:29] 64 bytes from 172.31.68.221: icmp_seq=49 ttl=64 time=0.490 ms\n",
    "[2021/01/15 16:54:29] 64 bytes from 172.31.68.221: icmp_seq=50 ttl=64 time=0.524 ms\n",
    "[2021/01/15 16:54:29] 64 bytes from 172.31.68.221: icmp_seq=51 ttl=64 time=0.501 ms\n",
    "[2021/01/15 16:54:29] 64 bytes from 172.31.68.221: icmp_seq=52 ttl=64 time=0.639 ms\n",
    "[2021/01/15 16:54:30] 64 bytes from 172.31.68.221: icmp_seq=53 ttl=64 time=0.735 ms\n",
    "[2021/01/15 16:54:30] 64 bytes from 172.31.68.221: icmp_seq=54 ttl=64 time=0.771 ms\n",
    "[2021/01/15 16:54:30] 64 bytes from 172.31.68.221: icmp_seq=55 ttl=64 time=0.815 ms\n",
    "[2021/01/15 16:54:30] 64 bytes from 172.31.68.221: icmp_seq=56 ttl=64 time=0.841 ms\n",
    "[2021/01/15 16:54:30] 64 bytes from 172.31.68.221: icmp_seq=57 ttl=64 time=0.777 ms\n",
    "[2021/01/15 16:54:30] 64 bytes from 172.31.68.221: icmp_seq=58 ttl=64 time=0.701 ms\n",
    "[2021/01/15 16:54:30] 64 bytes from 172.31.68.221: icmp_seq=59 ttl=64 time=0.688 ms\n",
    "[2021/01/15 16:54:30] 64 bytes from 172.31.68.221: icmp_seq=60 ttl=64 time=0.596 ms\n",
    "[2021/01/15 16:54:30] 64 bytes from 172.31.68.221: icmp_seq=61 ttl=64 time=0.755 ms\n",
    "[2021/01/15 16:54:31] 64 bytes from 172.31.68.221: icmp_seq=62 ttl=64 time=0.586 ms\n",
    "[2021/01/15 16:54:31] 64 bytes from 172.31.68.221: icmp_seq=63 ttl=64 time=0.543 ms\n",
    "[2021/01/15 16:54:31] 64 bytes from 172.31.68.221: icmp_seq=64 ttl=64 time=0.552 ms\n",
    "[2021/01/15 16:54:31] 64 bytes from 172.31.68.221: icmp_seq=65 ttl=64 time=0.760 ms\n",
    "[2021/01/15 16:54:31] 64 bytes from 172.31.68.221: icmp_seq=66 ttl=64 time=0.844 ms\n",
    "[2021/01/15 16:54:31] 64 bytes from 172.31.68.221: icmp_seq=67 ttl=64 time=0.870 ms\n",
    "^C\n",
    "```\n",
    "\n",
    "#### （2）の結果\n",
    "\n",
    "（2）の結果は以下の通りである。\n",
    "\n",
    "```\n",
    "$ date '+[%Y/%m/%d %H:%M:%S]'; mix upload.hotswap; date '+[%Y/%m/%d %H:%M:%S]'\n",
    "[2021/01/15 16:54:26]\n",
    "==> nerves\n",
    "make[1]: Nothing to be done for `all'.\n",
    "==> target_app\n",
    "\n",
    "Nerves environment\n",
    "  MIX_TARGET:   rpi3\n",
    "  MIX_ENV:      dev\n",
    "\n",
    "Compiling 2 files (.ex)\n",
    "Generated target_app app\n",
    "Successfully connected to hot_upload_test@nerves.local\n",
    "Successfully deployed Elixir.TargetApp to hot_upload_test@nerves.local\n",
    "Successfully deployed Elixir.TargetApp.Application to hot_upload_test@nerves.local\n",
    "[2021/01/15 16:54:29]\n",
    "```\n",
    "\n",
    "よって、（1）の`ping(1)`の実行中に、（2）のコマンド実行による通信の切断は見られなかった。\n",
    "\n",
    "### 2. 適用前後のIoTアプリケーションとの通信を`nc(1)`で検証する\n",
    "\n",
    "上記の適用を行う前後で、IoTアプリケーションとの通信の遮断が発生するかどうかを、`nc(1)`コマンドにより検証する。\n",
    "\n",
    "（1）ターミナルを2つ開いておき、一方では`nc nerves.local 9849`としてIoTアプリケーションと接続しておく。\n",
    "（2）他方では、上述の`mix upload.hotswap`コマンドを実行する。\n",
    "\n",
    "（1）を実行し、以下の通り入力を待ち受ける（コネクションを張ったままの）状態にしておく。\n",
    "\n",
    "```\n",
    "nc nerves.local 9849\n",
    "test1\n",
    "> test1\n",
    "test2\n",
    "> test2\n",
    "```\n",
    "\n",
    "その状態で（2）を実行すると、接続が切断される。これは、古いコードを参照しているプロセスをErlang VMが終了させるためである（参照: [Erlang -- Compilation and Code Loading](https://erlang.org/doc/reference_manual/code_loading.html#code-replacement)）。\n",
    "\n",
    "したがって、適用前後では、IoTアプリケーションとの通信は切断される。"
   ]
  }
 ],
 "metadata": {
  "kernelspec": {
   "display_name": "Python 3",
   "language": "python",
   "name": "python3"
  },
  "language_info": {
   "codemirror_mode": {
    "name": "ipython",
    "version": 3
   },
   "file_extension": ".py",
   "mimetype": "text/x-python",
   "name": "python",
   "nbconvert_exporter": "python",
   "pygments_lexer": "ipython3",
   "version": "3.8.1"
  }
 },
 "nbformat": 4,
 "nbformat_minor": 4
}
