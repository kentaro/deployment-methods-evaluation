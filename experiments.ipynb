{
 "cells": [
  {
   "cell_type": "markdown",
   "metadata": {},
   "source": [
    "# IoTアプリケーションの開発効率の向上を目的とした開発者によるコードの変更を動的に適用する方式の提案と実装\n",
    "\n",
    "このノートブックは、情報処理学会の[第207回SE研究発表会](http://www.ipsj.or.jp/kenkyukai/event/se207.html)において口頭発表予定の研究報告論文「IoTアプリケーションの開発効率の向上を目的とした開発者によるコードの変更を動的に適用する方式の提案と実装」のための実験について詳細を記録・公開するためのリポジトリである。\n",
    "\n",
    "計測方法について、共著者の北九州市立大学の山崎進氏による記事「[mix_tasks_upload_hotswap の Hexライブラリ版を試す](https://qiita.com/zacky1972/items/f0b47eded7c902008871)」、および、共著のプロセスを通じてご指導いただきました。感謝いたします。\n",
    "\n",
    "## 更新対象とするIoTアプリケーション\n",
    "\n",
    "各方式の比較検討に用いるアプリケーションは、本リポジトリの[target_app](./target_app)ディレクトリに収められている、IoTデバイス上で動作するEchoサーバが更新対象のアプリケーションである。\n",
    "\n",
    "## 比較検討する方式\n",
    "\n",
    "上記のIoTアプリケーションコードの変更をIoTデバイスに適用する方式として、以下の3つについて比較検討する。\n",
    "\n",
    "1. ファームウェアイメージの全体を適用する方式\n",
    "2. ファームウェアイメージの差分を適用する方式\n",
    "3. アプリケーションコードを動的に適用する方式（提案方式）\n",
    "\n",
    "それぞれの詳細については、研究報告論文を参照されたい。\n",
    "\n",
    "## 比較検討の方法\n",
    "\n",
    "各方式を比較するための指標として、開発者によるコードの変更をデバイスに適用し、更新対象のIoTアプリケーションがTCP通信可能となるまでの時間を用いる。\n",
    "\n",
    "方式を実装するためのIoTデバイス開発プラットフォームとして、[Nerves](https://www.nerves-project.org/)を用いる。筆者らによる提案方式3.の実装を加えると、上記の方式をすべて実装しているのがNervesだからである。ハードウェアとしては、Raspberry Piを用いる。\n",
    "\n",
    "方式1.および2.については、スクリプト[measure.sh](./measure.sh)を用いて、以下の時間を計測する。\n",
    "\n",
    "1. ファームウェアイメージの生成\n",
    "2. ファームウェアイメージのデバイスへのアップロード\n",
    "3. デバイスの再起動\n",
    "\n",
    "方式3.については、提案方式を実装した`mix upload.hotswap`コマンドの実行時間を、`time(1)`によって計測する。\n",
    "\n",
    "また、それぞれの方式について、アップデート対象となるファームウェアあるいはコードの容量についても付記する。\n",
    "\n",
    "## 実験環境\n",
    "\n",
    "### 開発環境\n",
    "\n",
    "* Model: MacBook Pro 13-inch, 2018\n",
    "* CPU: 2.7 GHz Quad-Core Intel Core i7\n",
    "* Memory: 16 GB 2133 MHz LPDDR3\n",
    "\n",
    "### IoTデバイス\n",
    "\n",
    "* Raspberry Pi 3 Model B\n",
    "* 開発環境との通信: 有線LAN\n",
    "* プラットフォーム: Nerves 1.7.2\n",
    "\n",
    "このNotebookでは、Nervesの開発環境の整備については解説しない。「[ElixirでIoT#4.1：Nerves開発環境の準備（2020年11月版）](https://qiita.com/takasehideki/items/88dda57758051d45fcf9)」等の記事を参照されたい。"
   ]
  },
  {
   "cell_type": "markdown",
   "metadata": {},
   "source": [
    "## 実験\n",
    "\n",
    "実験では、筆者らが用意したスクリプト[measure.sh](./measure.sh)を用いる。\n",
    "\n",
    "### 1. ファームウェアイメージ全体の適用\n",
    "\n",
    "以下に要する時間を計測する。\n",
    "\n",
    "1. ファームウェアイメージ全体の生成（`time(1)`で計測する）\n",
    "2. ファームウェアイメージのデバイスへの送信（`time(1)`で計測する）\n",
    "3. デバイスが再起動し`ping(1)`で通信が疎通すること\n",
    "4. IoTアプリケーションと`nc(1)`でTCP通信が疎通すること\n",
    "\n",
    "3回計測を行い、それらの平均を用いる。"
   ]
  },
  {
   "cell_type": "markdown",
   "metadata": {},
   "source": [
    "#### 1回目"
   ]
  },
  {
   "cell_type": "code",
   "execution_count": 5,
   "metadata": {},
   "outputs": [
    {
     "name": "stdout",
     "output_type": "stream",
     "text": [
      "nerves.local is at 172.31.68.221\n",
      "\n",
      "Time to build firmware (mix firmware)\n",
      "======================================\n",
      "\n",
      "real\t0m28.356s\n",
      "user\t0m6.683s\n",
      "sys\t0m2.310s\n",
      "\n",
      "Time to upload firmware\n",
      "======================================\n",
      "\n",
      "real\t0m14.359s\n",
      "user\t0m5.220s\n",
      "sys\t0m1.302s\n",
      "\n",
      "Time to reboot\n",
      "======================================\n",
      "\n",
      "time: 22.728 sec.\n",
      "\n",
      "Time to accept\n",
      "======================================\n",
      "\n",
      "Connection to 172.31.68.221 port 9849 [tcp/*] succeeded!\n",
      "timeout count: 1\n",
      "time: 1.056 sec.\n",
      "\n"
     ]
    }
   ],
   "source": [
    "!cd target_app && ../measure.sh firmware"
   ]
  },
  {
   "cell_type": "markdown",
   "metadata": {},
   "source": [
    "ビルドされたファームウェアのサイズ:"
   ]
  },
  {
   "cell_type": "code",
   "execution_count": 7,
   "metadata": {},
   "outputs": [
    {
     "name": "stdout",
     "output_type": "stream",
     "text": [
      "-rw-r--r--  1 antipop  2033490572    42M  1 20 22:23 target_app/_build/rpi3_dev/nerves/images/target_app.fw\n"
     ]
    }
   ],
   "source": [
    "!ls -lh target_app/_build/rpi3_dev/nerves/images/target_app.fw"
   ]
  },
  {
   "cell_type": "markdown",
   "metadata": {},
   "source": [
    "#### 2回目"
   ]
  },
  {
   "cell_type": "code",
   "execution_count": 10,
   "metadata": {},
   "outputs": [
    {
     "name": "stdout",
     "output_type": "stream",
     "text": [
      "nerves.local is at 172.31.68.221\n",
      "\n",
      "Time to build firmware (mix firmware)\n",
      "======================================\n",
      "\n",
      "real\t0m25.451s\n",
      "user\t0m6.377s\n",
      "sys\t0m2.085s\n",
      "\n",
      "Time to upload firmware\n",
      "======================================\n",
      "\n",
      "real\t0m13.922s\n",
      "user\t0m5.207s\n",
      "sys\t0m1.251s\n",
      "\n",
      "Time to reboot\n",
      "======================================\n",
      "\n",
      "time: 22.610 sec.\n",
      "\n",
      "Time to accept\n",
      "======================================\n",
      "\n",
      "Connection to 172.31.68.221 port 9849 [tcp/*] succeeded!\n",
      "timeout count: 1\n",
      "time: 1.053 sec.\n",
      "\n"
     ]
    }
   ],
   "source": [
    "!cd target_app && ../measure.sh firmware"
   ]
  },
  {
   "cell_type": "markdown",
   "metadata": {},
   "source": [
    "ビルドされたファームウェアのサイズ:"
   ]
  },
  {
   "cell_type": "code",
   "execution_count": 11,
   "metadata": {},
   "outputs": [
    {
     "name": "stdout",
     "output_type": "stream",
     "text": [
      "-rw-r--r--  1 antipop  2033490572    42M  1 20 22:28 target_app/_build/rpi3_dev/nerves/images/target_app.fw\n"
     ]
    }
   ],
   "source": [
    "!ls -lh target_app/_build/rpi3_dev/nerves/images/target_app.fw"
   ]
  },
  {
   "cell_type": "markdown",
   "metadata": {},
   "source": [
    "#### 3回目"
   ]
  },
  {
   "cell_type": "code",
   "execution_count": 14,
   "metadata": {},
   "outputs": [
    {
     "name": "stdout",
     "output_type": "stream",
     "text": [
      "nerves.local is at 172.31.68.221\n",
      "\n",
      "Time to build firmware (mix firmware)\n",
      "======================================\n",
      "\n",
      "real\t0m28.092s\n",
      "user\t0m6.256s\n",
      "sys\t0m2.211s\n",
      "\n",
      "Time to upload firmware\n",
      "======================================\n",
      "\n",
      "real\t0m15.227s\n",
      "user\t0m5.348s\n",
      "sys\t0m1.292s\n",
      "\n",
      "Time to reboot\n",
      "======================================\n",
      "\n",
      "time: 22.767 sec.\n",
      "\n",
      "Time to accept\n",
      "======================================\n",
      "\n",
      "Connection to 172.31.68.221 port 9849 [tcp/*] succeeded!\n",
      "timeout count: 1\n",
      "time: 1.042 sec.\n",
      "\n"
     ]
    }
   ],
   "source": [
    "!cd target_app && ../measure.sh firmware"
   ]
  },
  {
   "cell_type": "markdown",
   "metadata": {},
   "source": [
    "ビルドされたファームウェアのサイズ:"
   ]
  },
  {
   "cell_type": "code",
   "execution_count": 15,
   "metadata": {},
   "outputs": [
    {
     "name": "stdout",
     "output_type": "stream",
     "text": [
      "-rw-r--r--  1 antipop  2033490572    42M  1 20 22:34 target_app/_build/rpi3_dev/nerves/images/target_app.fw\n"
     ]
    }
   ],
   "source": [
    "!ls -lh target_app/_build/rpi3_dev/nerves/images/target_app.fw"
   ]
  },
  {
   "cell_type": "markdown",
   "metadata": {},
   "source": [
    "----\n",
    "\n",
    "#### 方式（1）のまとめ"
   ]
  },
  {
   "cell_type": "code",
   "execution_count": 18,
   "metadata": {},
   "outputs": [
    {
     "name": "stdout",
     "output_type": "stream",
     "text": [
      "（1） 27.30秒\n",
      "（2） 14.50秒\n",
      "（3） 22.70秒\n",
      "（4） 1.05秒\n"
     ]
    }
   ],
   "source": [
    "print(\"（1） {:.2f}秒\".format((28.356+25.451+28.092)/3))\n",
    "print(\"（2） {:.2f}秒\".format((14.359+13.922+15.227)/3))\n",
    "print(\"（3） {:.2f}秒\".format((22.728+22.610+22.767)/3))\n",
    "print(\"（4） {:.2f}秒\".format((1.056+1.053+1.042)/3))"
   ]
  },
  {
   "cell_type": "markdown",
   "metadata": {},
   "source": [
    "また、ビルドされたファームウェアのサイズは`42MB`であった。\n",
    "\n",
    "----"
   ]
  },
  {
   "cell_type": "markdown",
   "metadata": {},
   "source": [
    "### 2. ファームウェアイメージ差分の適用\n",
    "\n",
    "以下に要する時間を計測する。\n",
    "\n",
    "1. ファームウェアイメージ差分の生成（`time(1)`で計測する）\n",
    "2. ファームウェアイメージのデバイスへの送信（`time(1)`で計測する）\n",
    "3. デバイスが再起動し`ping(1)`で通信が疎通すること\n",
    "4. IoTアプリケーションと`nc(1)`でTCP通信が疎通すること\n",
    "\n",
    "3回計測を行い、それらの平均を用いる。"
   ]
  },
  {
   "cell_type": "markdown",
   "metadata": {},
   "source": [
    "#### 1回目"
   ]
  },
  {
   "cell_type": "code",
   "execution_count": 8,
   "metadata": {},
   "outputs": [
    {
     "name": "stdout",
     "output_type": "stream",
     "text": [
      "nerves.local is at 172.31.68.221\n",
      "\n",
      "Time to build firmware (mix firmware.patch)\n",
      "======================================\n",
      "\n",
      "real\t0m30.348s\n",
      "user\t0m6.424s\n",
      "sys\t0m2.342s\n",
      "\n",
      "Time to upload firmware\n",
      "======================================\n",
      "\n",
      "real\t0m17.616s\n",
      "user\t0m4.103s\n",
      "sys\t0m1.170s\n",
      "\n",
      "Time to reboot\n",
      "======================================\n",
      "\n",
      "time: 22.645 sec.\n",
      "\n",
      "Time to accept\n",
      "======================================\n",
      "\n",
      "Connection to 172.31.68.221 port 9849 [tcp/*] succeeded!\n",
      "timeout count: 1\n",
      "time: 1.055 sec.\n",
      "\n"
     ]
    }
   ],
   "source": [
    "!cd target_app && ../measure.sh firmware.patch"
   ]
  },
  {
   "cell_type": "markdown",
   "metadata": {},
   "source": [
    "ビルドされたファームウェア差分のサイズ:"
   ]
  },
  {
   "cell_type": "code",
   "execution_count": 9,
   "metadata": {},
   "outputs": [
    {
     "name": "stdout",
     "output_type": "stream",
     "text": [
      "-rw-r--r--  1 antipop  2033490572   5.9M  1 20 22:26 target_app/_build/rpi3_dev/nerves/images/patch.fw\n"
     ]
    }
   ],
   "source": [
    "!ls -lh target_app/_build/rpi3_dev/nerves/images/patch.fw"
   ]
  },
  {
   "cell_type": "markdown",
   "metadata": {},
   "source": [
    "#### 2回目"
   ]
  },
  {
   "cell_type": "code",
   "execution_count": 12,
   "metadata": {},
   "outputs": [
    {
     "name": "stdout",
     "output_type": "stream",
     "text": [
      "nerves.local is at 172.31.68.221\n",
      "\n",
      "Time to build firmware (mix firmware.patch)\n",
      "======================================\n",
      "\n",
      "real\t0m29.028s\n",
      "user\t0m6.118s\n",
      "sys\t0m2.183s\n",
      "\n",
      "Time to upload firmware\n",
      "======================================\n",
      "\n",
      "real\t0m17.130s\n",
      "user\t0m3.772s\n",
      "sys\t0m1.023s\n",
      "\n",
      "Time to reboot\n",
      "======================================\n",
      "\n",
      "time: 22.582 sec.\n",
      "\n",
      "Time to accept\n",
      "======================================\n",
      "\n",
      "Connection to 172.31.68.221 port 9849 [tcp/*] succeeded!\n",
      "timeout count: 1\n",
      "time: 1.045 sec.\n",
      "\n"
     ]
    }
   ],
   "source": [
    "!cd target_app && ../measure.sh firmware.patch"
   ]
  },
  {
   "cell_type": "markdown",
   "metadata": {},
   "source": [
    "ビルドされたファームウェア差分のサイズ:"
   ]
  },
  {
   "cell_type": "code",
   "execution_count": 13,
   "metadata": {},
   "outputs": [
    {
     "name": "stdout",
     "output_type": "stream",
     "text": [
      "-rw-r--r--  1 antipop  2033490572   6.0M  1 20 22:31 target_app/_build/rpi3_dev/nerves/images/patch.fw\n"
     ]
    }
   ],
   "source": [
    "!ls -lh target_app/_build/rpi3_dev/nerves/images/patch.fw"
   ]
  },
  {
   "cell_type": "markdown",
   "metadata": {},
   "source": [
    "#### 3回目"
   ]
  },
  {
   "cell_type": "code",
   "execution_count": 17,
   "metadata": {},
   "outputs": [
    {
     "name": "stdout",
     "output_type": "stream",
     "text": [
      "nerves.local is at 172.31.68.221\n",
      "\n",
      "Time to build firmware (mix firmware.patch)\n",
      "======================================\n",
      "\n",
      "real\t0m31.053s\n",
      "user\t0m6.576s\n",
      "sys\t0m2.411s\n",
      "\n",
      "Time to upload firmware\n",
      "======================================\n",
      "\n",
      "real\t0m17.459s\n",
      "user\t0m3.902s\n",
      "sys\t0m1.099s\n",
      "\n",
      "Time to reboot\n",
      "======================================\n",
      "\n",
      "time: 22.662 sec.\n",
      "\n",
      "Time to accept\n",
      "======================================\n",
      "\n",
      "Connection to 172.31.68.221 port 9849 [tcp/*] succeeded!\n",
      "timeout count: 1\n",
      "time: 1.052 sec.\n",
      "\n"
     ]
    }
   ],
   "source": [
    "!cd target_app && ../measure.sh firmware.patch"
   ]
  },
  {
   "cell_type": "markdown",
   "metadata": {},
   "source": [
    "ビルドされたファームウェア差分のサイズ:"
   ]
  },
  {
   "cell_type": "code",
   "execution_count": 22,
   "metadata": {},
   "outputs": [
    {
     "name": "stdout",
     "output_type": "stream",
     "text": [
      "-rw-r--r--  1 antipop  2033490572   6.0M  1 20 22:42 target_app/_build/rpi3_dev/nerves/images/patch.fw\n"
     ]
    }
   ],
   "source": [
    "!ls -lh target_app/_build/rpi3_dev/nerves/images/patch.fw"
   ]
  },
  {
   "cell_type": "markdown",
   "metadata": {},
   "source": [
    "----\n",
    "\n",
    "#### 方式（2）のまとめ"
   ]
  },
  {
   "cell_type": "code",
   "execution_count": 21,
   "metadata": {},
   "outputs": [
    {
     "name": "stdout",
     "output_type": "stream",
     "text": [
      "（1） 30.14秒\n",
      "（2） 17.40秒\n",
      "（3） 22.63秒\n",
      "（4） 1.05秒\n"
     ]
    }
   ],
   "source": [
    "print(\"（1） {:.2f}秒\".format((30.348+29.028+31.053)/3))\n",
    "print(\"（2） {:.2f}秒\".format((17.616+17.130+17.459)/3))\n",
    "print(\"（3） {:.2f}秒\".format((22.645+22.582+22.662)/3))\n",
    "print(\"（4） {:.2f}秒\".format((1.055+1.045+1.052)/3))"
   ]
  },
  {
   "cell_type": "markdown",
   "metadata": {},
   "source": [
    "また、ビルドされたファームウェア差分のサイズは`6MB`であった。\n",
    "\n",
    "----"
   ]
  },
  {
   "cell_type": "markdown",
   "metadata": {},
   "source": [
    "### 3. アプリケーションコードの部分適用\n",
    "\n",
    "この方式ではIoTデバイスの再起動は必要ないため、以下に要する時間を計測する。\n",
    "\n",
    "1. コードの変更のデバイスへの適用（`time(1)`で計測する）\n",
    "4. IoTアプリケーションと`nc(1)`でTCP通信が疎通すること\n",
    "\n",
    "3回計測を行い、それらの平均を用いる。"
   ]
  },
  {
   "cell_type": "markdown",
   "metadata": {},
   "source": [
    "#### 1回目"
   ]
  },
  {
   "cell_type": "code",
   "execution_count": 11,
   "metadata": {},
   "outputs": [
    {
     "name": "stdout",
     "output_type": "stream",
     "text": [
      "\n",
      "real\t0m3.414s\n",
      "user\t0m4.708s\n",
      "sys\t0m1.322s\n"
     ]
    }
   ],
   "source": [
    "!cd target_app && time mix upload.hotswap > /dev/null"
   ]
  },
  {
   "cell_type": "markdown",
   "metadata": {},
   "source": [
    "#### 2回め"
   ]
  },
  {
   "cell_type": "code",
   "execution_count": 15,
   "metadata": {},
   "outputs": [
    {
     "name": "stdout",
     "output_type": "stream",
     "text": [
      "\n",
      "real\t0m3.197s\n",
      "user\t0m4.668s\n",
      "sys\t0m1.256s\n"
     ]
    }
   ],
   "source": [
    "!cd target_app && time mix upload.hotswap > /dev/null"
   ]
  },
  {
   "cell_type": "markdown",
   "metadata": {},
   "source": [
    "#### 3回目"
   ]
  },
  {
   "cell_type": "code",
   "execution_count": 16,
   "metadata": {},
   "outputs": [
    {
     "name": "stdout",
     "output_type": "stream",
     "text": [
      "\n",
      "real\t0m2.915s\n",
      "user\t0m4.528s\n",
      "sys\t0m1.200s\n"
     ]
    }
   ],
   "source": [
    "!cd target_app && time mix upload.hotswap > /dev/null"
   ]
  },
  {
   "cell_type": "markdown",
   "metadata": {},
   "source": [
    "#### 方式（3）のまとめ"
   ]
  },
  {
   "cell_type": "markdown",
   "metadata": {},
   "source": [
    "print(\"1. `mix upload.hotswap`: {:.2f}秒\".format((3.414+3.197+2.915)/3))"
   ]
  },
  {
   "cell_type": "markdown",
   "metadata": {},
   "source": [
    "### 各方式の計測結果のまとめ\n",
    "\n",
    "各方式について、上記から以下の通り結果をまとめた。\n",
    "\n",
    "|                         | firmware build | firmware upload | reboot | code update | total   |\n",
    "|-------------------------|----------------|-----------------|--------|-------------|-------|\n",
    "| firmware update (full)  |          21.19 |           14.48 |  22.70 |           - | 58.37 |\n",
    "| firmware update (patch) |          24.38 |           18.01 |  22.64 |           - | 65.04 |\n",
    "| proposed method         |              - |               - |      - |        3.18 |  3.18 |"
   ]
  },
  {
   "cell_type": "markdown",
   "metadata": {},
   "source": [
    "----\n",
    "\n",
    "以降は予備的な実験および考察である．\n",
    "\n",
    "## 方式（3）についての追加実験\n",
    "\n",
    "上記の方式（3）は，IoTデバイスの再起動をともなわない方式である．一方で，Erlang VM上でのコードの更新は行われるため，以下の2つの面で通信の遮断が発生するかどうかを確認する．\n",
    "\n",
    "1. 適用前後のデバイスとの通信を`ping(1)`で検証する\n",
    "2. 適用前後のIoTアプリケーションとの通信を検証する\n",
    "\n",
    "### 1. 適用前後のデバイスとの通信を`ping(1)`で検証する\n",
    "\n",
    "上記の適用を行う前後で、通信の遮断が発生するかどうかを、`ping(1)`コマンドにより検証する。\n",
    "\n",
    "ターミナルを2つ開いておき、一方では以下のコマンドを用いて、`nerves.local`に対して0.1秒間隔で`ping(1)`コマンドを実行する（1）。\n",
    "\n",
    "```\n",
    "ping -i 0.1 nerves.local | while read pi; do echo \"$(date '+[%Y/%m/%d %H:%M:%S]') $pi\"; done\n",
    "```\n",
    "\n",
    "他方では、上述の`mix upload.hotswap`コマンドを`date(1)`コマンドを前後に挟むことで時間を表示して実行する（2）。\n",
    "\n",
    "（1）の結果は以下の通りである。\n",
    "\n",
    "```\n",
    "$ ping -i 0.1 nerves.local | while read pi; do echo \"$(date '+[%Y/%m/%d %H:%M:%S]') $pi\"; done\n",
    "[2021/01/15 16:54:24] PING nerves.local (172.31.68.221): 56 data bytes\n",
    "[2021/01/15 16:54:24] 64 bytes from 172.31.68.221: icmp_seq=0 ttl=64 time=0.726 ms\n",
    "[2021/01/15 16:54:24] 64 bytes from 172.31.68.221: icmp_seq=1 ttl=64 time=0.651 ms\n",
    "[2021/01/15 16:54:24] 64 bytes from 172.31.68.221: icmp_seq=2 ttl=64 time=0.833 ms\n",
    "[2021/01/15 16:54:24] 64 bytes from 172.31.68.221: icmp_seq=3 ttl=64 time=0.920 ms\n",
    "[2021/01/15 16:54:25] 64 bytes from 172.31.68.221: icmp_seq=4 ttl=64 time=0.977 ms\n",
    "[2021/01/15 16:54:25] 64 bytes from 172.31.68.221: icmp_seq=5 ttl=64 time=0.668 ms\n",
    "[2021/01/15 16:54:25] 64 bytes from 172.31.68.221: icmp_seq=6 ttl=64 time=0.840 ms\n",
    "[2021/01/15 16:54:25] 64 bytes from 172.31.68.221: icmp_seq=7 ttl=64 time=0.832 ms\n",
    "[2021/01/15 16:54:25] 64 bytes from 172.31.68.221: icmp_seq=8 ttl=64 time=0.783 ms\n",
    "[2021/01/15 16:54:25] 64 bytes from 172.31.68.221: icmp_seq=9 ttl=64 time=0.774 ms\n",
    "[2021/01/15 16:54:25] 64 bytes from 172.31.68.221: icmp_seq=10 ttl=64 time=0.858 ms\n",
    "[2021/01/15 16:54:25] 64 bytes from 172.31.68.221: icmp_seq=11 ttl=64 time=0.821 ms\n",
    "[2021/01/15 16:54:25] 64 bytes from 172.31.68.221: icmp_seq=12 ttl=64 time=0.865 ms\n",
    "[2021/01/15 16:54:26] 64 bytes from 172.31.68.221: icmp_seq=13 ttl=64 time=0.731 ms\n",
    "[2021/01/15 16:54:26] 64 bytes from 172.31.68.221: icmp_seq=14 ttl=64 time=0.770 ms\n",
    "[2021/01/15 16:54:26] 64 bytes from 172.31.68.221: icmp_seq=15 ttl=64 time=0.624 ms\n",
    "[2021/01/15 16:54:26] 64 bytes from 172.31.68.221: icmp_seq=16 ttl=64 time=0.719 ms\n",
    "[2021/01/15 16:54:26] 64 bytes from 172.31.68.221: icmp_seq=17 ttl=64 time=0.810 ms\n",
    "[2021/01/15 16:54:26] 64 bytes from 172.31.68.221: icmp_seq=18 ttl=64 time=0.685 ms\n",
    "[2021/01/15 16:54:26] 64 bytes from 172.31.68.221: icmp_seq=19 ttl=64 time=0.781 ms\n",
    "[2021/01/15 16:54:26] 64 bytes from 172.31.68.221: icmp_seq=20 ttl=64 time=0.742 ms\n",
    "[2021/01/15 16:54:26] 64 bytes from 172.31.68.221: icmp_seq=21 ttl=64 time=0.816 ms\n",
    "[2021/01/15 16:54:26] 64 bytes from 172.31.68.221: icmp_seq=22 ttl=64 time=0.583 ms\n",
    "[2021/01/15 16:54:27] 64 bytes from 172.31.68.221: icmp_seq=23 ttl=64 time=0.547 ms\n",
    "[2021/01/15 16:54:27] 64 bytes from 172.31.68.221: icmp_seq=24 ttl=64 time=0.618 ms\n",
    "[2021/01/15 16:54:27] 64 bytes from 172.31.68.221: icmp_seq=25 ttl=64 time=0.592 ms\n",
    "[2021/01/15 16:54:27] 64 bytes from 172.31.68.221: icmp_seq=26 ttl=64 time=0.556 ms\n",
    "[2021/01/15 16:54:27] 64 bytes from 172.31.68.221: icmp_seq=27 ttl=64 time=0.525 ms\n",
    "[2021/01/15 16:54:27] 64 bytes from 172.31.68.221: icmp_seq=28 ttl=64 time=0.498 ms\n",
    "[2021/01/15 16:54:27] 64 bytes from 172.31.68.221: icmp_seq=29 ttl=64 time=0.506 ms\n",
    "[2021/01/15 16:54:27] 64 bytes from 172.31.68.221: icmp_seq=30 ttl=64 time=0.504 ms\n",
    "[2021/01/15 16:54:27] 64 bytes from 172.31.68.221: icmp_seq=31 ttl=64 time=0.514 ms\n",
    "[2021/01/15 16:54:27] 64 bytes from 172.31.68.221: icmp_seq=32 ttl=64 time=0.558 ms\n",
    "[2021/01/15 16:54:28] 64 bytes from 172.31.68.221: icmp_seq=33 ttl=64 time=0.556 ms\n",
    "[2021/01/15 16:54:28] 64 bytes from 172.31.68.221: icmp_seq=34 ttl=64 time=0.525 ms\n",
    "[2021/01/15 16:54:28] 64 bytes from 172.31.68.221: icmp_seq=35 ttl=64 time=0.559 ms\n",
    "[2021/01/15 16:54:28] 64 bytes from 172.31.68.221: icmp_seq=36 ttl=64 time=0.547 ms\n",
    "[2021/01/15 16:54:28] 64 bytes from 172.31.68.221: icmp_seq=37 ttl=64 time=0.517 ms\n",
    "[2021/01/15 16:54:28] 64 bytes from 172.31.68.221: icmp_seq=38 ttl=64 time=0.518 ms\n",
    "[2021/01/15 16:54:28] 64 bytes from 172.31.68.221: icmp_seq=39 ttl=64 time=0.534 ms\n",
    "[2021/01/15 16:54:28] 64 bytes from 172.31.68.221: icmp_seq=40 ttl=64 time=0.617 ms\n",
    "[2021/01/15 16:54:28] 64 bytes from 172.31.68.221: icmp_seq=41 ttl=64 time=0.530 ms\n",
    "[2021/01/15 16:54:28] 64 bytes from 172.31.68.221: icmp_seq=42 ttl=64 time=0.581 ms\n",
    "[2021/01/15 16:54:29] 64 bytes from 172.31.68.221: icmp_seq=43 ttl=64 time=0.633 ms\n",
    "[2021/01/15 16:54:29] 64 bytes from 172.31.68.221: icmp_seq=44 ttl=64 time=0.534 ms\n",
    "[2021/01/15 16:54:29] 64 bytes from 172.31.68.221: icmp_seq=45 ttl=64 time=0.533 ms\n",
    "[2021/01/15 16:54:29] 64 bytes from 172.31.68.221: icmp_seq=46 ttl=64 time=0.548 ms\n",
    "[2021/01/15 16:54:29] 64 bytes from 172.31.68.221: icmp_seq=47 ttl=64 time=0.520 ms\n",
    "[2021/01/15 16:54:29] 64 bytes from 172.31.68.221: icmp_seq=48 ttl=64 time=0.561 ms\n",
    "[2021/01/15 16:54:29] 64 bytes from 172.31.68.221: icmp_seq=49 ttl=64 time=0.490 ms\n",
    "[2021/01/15 16:54:29] 64 bytes from 172.31.68.221: icmp_seq=50 ttl=64 time=0.524 ms\n",
    "[2021/01/15 16:54:29] 64 bytes from 172.31.68.221: icmp_seq=51 ttl=64 time=0.501 ms\n",
    "[2021/01/15 16:54:29] 64 bytes from 172.31.68.221: icmp_seq=52 ttl=64 time=0.639 ms\n",
    "[2021/01/15 16:54:30] 64 bytes from 172.31.68.221: icmp_seq=53 ttl=64 time=0.735 ms\n",
    "[2021/01/15 16:54:30] 64 bytes from 172.31.68.221: icmp_seq=54 ttl=64 time=0.771 ms\n",
    "[2021/01/15 16:54:30] 64 bytes from 172.31.68.221: icmp_seq=55 ttl=64 time=0.815 ms\n",
    "[2021/01/15 16:54:30] 64 bytes from 172.31.68.221: icmp_seq=56 ttl=64 time=0.841 ms\n",
    "[2021/01/15 16:54:30] 64 bytes from 172.31.68.221: icmp_seq=57 ttl=64 time=0.777 ms\n",
    "[2021/01/15 16:54:30] 64 bytes from 172.31.68.221: icmp_seq=58 ttl=64 time=0.701 ms\n",
    "[2021/01/15 16:54:30] 64 bytes from 172.31.68.221: icmp_seq=59 ttl=64 time=0.688 ms\n",
    "[2021/01/15 16:54:30] 64 bytes from 172.31.68.221: icmp_seq=60 ttl=64 time=0.596 ms\n",
    "[2021/01/15 16:54:30] 64 bytes from 172.31.68.221: icmp_seq=61 ttl=64 time=0.755 ms\n",
    "[2021/01/15 16:54:31] 64 bytes from 172.31.68.221: icmp_seq=62 ttl=64 time=0.586 ms\n",
    "[2021/01/15 16:54:31] 64 bytes from 172.31.68.221: icmp_seq=63 ttl=64 time=0.543 ms\n",
    "[2021/01/15 16:54:31] 64 bytes from 172.31.68.221: icmp_seq=64 ttl=64 time=0.552 ms\n",
    "[2021/01/15 16:54:31] 64 bytes from 172.31.68.221: icmp_seq=65 ttl=64 time=0.760 ms\n",
    "[2021/01/15 16:54:31] 64 bytes from 172.31.68.221: icmp_seq=66 ttl=64 time=0.844 ms\n",
    "[2021/01/15 16:54:31] 64 bytes from 172.31.68.221: icmp_seq=67 ttl=64 time=0.870 ms\n",
    "^C\n",
    "```\n",
    "\n",
    "（2）の結果は以下の通りである。\n",
    "\n",
    "```\n",
    "$ date '+[%Y/%m/%d %H:%M:%S]'; mix upload.hotswap; date '+[%Y/%m/%d %H:%M:%S]'\n",
    "[2021/01/15 16:54:26]\n",
    "==> nerves\n",
    "make[1]: Nothing to be done for `all'.\n",
    "==> target_app\n",
    "\n",
    "Nerves environment\n",
    "  MIX_TARGET:   rpi3\n",
    "  MIX_ENV:      dev\n",
    "\n",
    "Compiling 2 files (.ex)\n",
    "Generated target_app app\n",
    "Successfully connected to hot_upload_test@nerves.local\n",
    "Successfully deployed Elixir.TargetApp to hot_upload_test@nerves.local\n",
    "Successfully deployed Elixir.TargetApp.Application to hot_upload_test@nerves.local\n",
    "[2021/01/15 16:54:29]\n",
    "```\n",
    "\n",
    "よって、（1）の`ping(1)`の実行中に、（2）のコマンド実行による通信の切断は見られなかった。"
   ]
  }
 ],
 "metadata": {
  "kernelspec": {
   "display_name": "Python 3",
   "language": "python",
   "name": "python3"
  },
  "language_info": {
   "codemirror_mode": {
    "name": "ipython",
    "version": 3
   },
   "file_extension": ".py",
   "mimetype": "text/x-python",
   "name": "python",
   "nbconvert_exporter": "python",
   "pygments_lexer": "ipython3",
   "version": "3.8.1"
  }
 },
 "nbformat": 4,
 "nbformat_minor": 4
}
